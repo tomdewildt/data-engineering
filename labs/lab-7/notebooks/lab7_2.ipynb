{
 "cells": [
  {
   "cell_type": "code",
   "execution_count": 1,
   "id": "102594e5-0b6b-4315-b849-7d2391174fe4",
   "metadata": {},
   "outputs": [],
   "source": [
    "from pyspark.sql import SparkSession\n",
    "from pyspark import SparkConf\n",
    "from pyspark.sql.types import StructType, StructField, LongType, StringType, DoubleType\n",
    "from time import sleep"
   ]
  },
  {
   "cell_type": "code",
   "execution_count": 2,
   "id": "e8720a44-948d-4a11-a00b-1049b58f533a",
   "metadata": {},
   "outputs": [],
   "source": [
    "spark_conf = SparkConf()\n",
    "spark_conf.setMaster(\"spark://master:7077\")\n",
    "spark_conf.setAppName(\"Lab7_2\")\n",
    "spark_conf.set(\"spark.driver.memory\", \"2g\")\n",
    "spark_conf.set(\"spark.executor.cores\", \"1\")\n",
    "spark_conf.set(\"spark.driver.cores\", \"1\")\n",
    "\n",
    "# Create the spark session, which is the entry point to Spark SQL engine.\n",
    "spark = SparkSession.builder.config(conf=spark_conf).getOrCreate()"
   ]
  },
  {
   "cell_type": "code",
   "execution_count": 3,
   "id": "94a36f76-da2e-4a90-b830-12f20069c802",
   "metadata": {},
   "outputs": [],
   "source": [
    "data_schema = StructType([\n",
    "    StructField(\"Arrival_Time\", LongType(), True),\n",
    "    StructField(\"Creation_Time\", LongType(), True),\n",
    "    StructField(\"Device\", StringType(), True),\n",
    "    StructField(\"Index\", LongType(), True),\n",
    "    StructField(\"Model\", StringType(), True),\n",
    "    StructField(\"User\", StringType(), True),\n",
    "    StructField(\"gt\", StringType(), True),\n",
    "    StructField(\"x\", DoubleType(), True),\n",
    "    StructField(\"y\", DoubleType(), True),\n",
    "    StructField(\"z\", DoubleType(), True),\n",
    "])"
   ]
  },
  {
   "cell_type": "code",
   "execution_count": 4,
   "id": "8572913d-df2f-40e9-b23d-cd8485b9a9c8",
   "metadata": {},
   "outputs": [],
   "source": [
    "# Read from a source \n",
    "sdf = spark.readStream.schema(data_schema).option(\"maxFilesPerTrigger\", 1).json(\"../data/activity\")"
   ]
  },
  {
   "cell_type": "code",
   "execution_count": 5,
   "id": "c81708cd-baef-45db-ba2a-aa5dc90c9c81",
   "metadata": {},
   "outputs": [],
   "source": [
    "# Do a calculation\n",
    "activity_counts = sdf.groupBy(\"gt\").count()"
   ]
  },
  {
   "cell_type": "code",
   "execution_count": 6,
   "id": "83990a62-df64-4dce-b582-3303fae1d2ca",
   "metadata": {},
   "outputs": [],
   "source": [
    "# Write to a sink - here, the output is the console.\n",
    "activity_query = activity_counts.writeStream.queryName(\"activity_counts\").format(\"console\").outputMode(\"complete\").start()"
   ]
  },
  {
   "cell_type": "code",
   "execution_count": 7,
   "id": "570dcd95-2979-44df-a7e6-743810ce8bbc",
   "metadata": {},
   "outputs": [
    {
     "name": "stdout",
     "output_type": "stream",
     "text": [
      "Stoped the streaming query and the spark context\n"
     ]
    }
   ],
   "source": [
    "try:\n",
    "    activity_query.awaitTermination()\n",
    "except KeyboardInterrupt:\n",
    "    activity_query.stop()\n",
    "    # Stop the spark context\n",
    "    spark.stop()\n",
    "    \n",
    "    print(\"Stoped the streaming query and the spark context\")"
   ]
  },
  {
   "cell_type": "code",
   "execution_count": 8,
   "id": "f6d06d26-572b-473c-99a5-87d3bd4156d8",
   "metadata": {},
   "outputs": [],
   "source": [
    "# Stop the spark context\n",
    "spark.stop()"
   ]
  }
 ],
 "metadata": {
  "kernelspec": {
   "display_name": "Python 3",
   "language": "python",
   "name": "python3"
  },
  "language_info": {
   "codemirror_mode": {
    "name": "ipython",
    "version": 3
   },
   "file_extension": ".py",
   "mimetype": "text/x-python",
   "name": "python",
   "nbconvert_exporter": "python",
   "pygments_lexer": "ipython3",
   "version": "3.9.4"
  }
 },
 "nbformat": 4,
 "nbformat_minor": 5
}
