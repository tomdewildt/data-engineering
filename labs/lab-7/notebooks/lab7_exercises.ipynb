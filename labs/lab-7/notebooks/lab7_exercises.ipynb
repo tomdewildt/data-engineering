{
 "cells": [
  {
   "cell_type": "code",
   "execution_count": 1,
   "id": "358bec75-7b49-4dd0-943a-486498980e43",
   "metadata": {},
   "outputs": [],
   "source": [
    "from pyspark import SparkConf\n",
    "from pyspark.sql import SparkSession\n",
    "from pyspark.sql.functions import window, col, avg, concat, lit, from_csv\n",
    "from pyspark.sql.types import StructType, StructField, LongType, StringType, DoubleType, IntegerType\n",
    "from time import sleep"
   ]
  },
  {
   "cell_type": "code",
   "execution_count": 2,
   "id": "259dfef7-c64f-40e5-ae6c-cd7ebe599c92",
   "metadata": {},
   "outputs": [],
   "source": [
    "spark_conf = SparkConf()\n",
    "spark_conf.setMaster(\"spark://master:7077\")\n",
    "spark_conf.setAppName(\"Lab7_Exercises\")\n",
    "spark_conf.set(\"spark.driver.memory\", \"2g\")\n",
    "spark_conf.set(\"spark.executor.cores\", \"1\")\n",
    "spark_conf.set(\"spark.driver.cores\", \"1\")\n",
    "\n",
    "# Create the spark session, which is the entry point to Spark SQL engine.\n",
    "spark = SparkSession.builder.config(conf=spark_conf).getOrCreate()"
   ]
  },
  {
   "cell_type": "markdown",
   "id": "12d7877d-b57c-4350-8c5f-713df92cb466",
   "metadata": {},
   "source": [
    "### Exercise 1\n",
    "\n",
    "Give me the average score of each pair of (user, team) for each 10 seconds."
   ]
  },
  {
   "cell_type": "code",
   "execution_count": 3,
   "id": "d72bb3d6-39b1-4984-8dc5-ae3a5ef3b34e",
   "metadata": {},
   "outputs": [],
   "source": [
    "data_schema = StructType([\n",
    "    StructField(\"uname\", StringType(), True),\n",
    "    StructField(\"tname\", StringType(), True),\n",
    "    StructField(\"score\", IntegerType(), True),\n",
    "    StructField(\"timestamp_in_ms\", LongType(), True),\n",
    "    StructField(\"readable_time\", StringType(), True)\n",
    "])"
   ]
  },
  {
   "cell_type": "code",
   "execution_count": 4,
   "id": "81383b57-a4e5-48ad-869d-42a1c4a3e64d",
   "metadata": {},
   "outputs": [],
   "source": [
    "# Read from a source \n",
    "sdf = spark.readStream.schema(data_schema).option(\"maxFilesPerTrigger\", 1).csv(\"../data/game\")"
   ]
  },
  {
   "cell_type": "code",
   "execution_count": 5,
   "id": "f195b59a-3a00-4cdc-a13e-c1e6814a34ca",
   "metadata": {},
   "outputs": [
    {
     "name": "stdout",
     "output_type": "stream",
     "text": [
      "root\n",
      " |-- uname: string (nullable = true)\n",
      " |-- tname: string (nullable = true)\n",
      " |-- score: integer (nullable = true)\n",
      " |-- timestamp_in_ms: long (nullable = true)\n",
      " |-- readable_time: string (nullable = true)\n",
      " |-- event_time: timestamp (nullable = true)\n",
      "\n"
     ]
    }
   ],
   "source": [
    "# Create the event time column \n",
    "with_event_time_df = sdf.selectExpr(\"*\", \"cast(timestamp_in_ms/1000.0 as timestamp) as event_time\")\n",
    "\n",
    "with_event_time_df.printSchema()\n",
    "\n",
    "avg_score_df = with_event_time_df.groupBy(window(col(\"event_time\"), \"10 seconds\"), \"uname\", \"tname\").agg(avg(\"score\").alias(\"value\"))\n",
    "\n",
    "result_df = avg_score_df.select(concat(col(\"uname\"), lit(\" \"), col(\"tname\")).alias(\"key\"), col(\"value\"))\n",
    "\n",
    "query = result_df.writeStream.queryName(\"avg_score_window_ex1\").format(\"memory\").outputMode(\"complete\").start()"
   ]
  },
  {
   "cell_type": "code",
   "execution_count": 6,
   "id": "e9e24695-0c30-4b7b-8845-2be0d0ac5d5a",
   "metadata": {},
   "outputs": [
    {
     "name": "stdout",
     "output_type": "stream",
     "text": [
      "+---+-----+\n",
      "|key|value|\n",
      "+---+-----+\n",
      "+---+-----+\n",
      "\n",
      "+---+-----+\n",
      "|key|value|\n",
      "+---+-----+\n",
      "+---+-----+\n",
      "\n",
      "+---+-----+\n",
      "|key|value|\n",
      "+---+-----+\n",
      "+---+-----+\n",
      "\n",
      "+--------------------+------------------+\n",
      "|                 key|             value|\n",
      "+--------------------+------------------+\n",
      "|user3_AmaranthDin...|10.232142857142858|\n",
      "|user3_AntiqueBras...| 8.385964912280702|\n",
      "|user7_AmaranthDin...|10.714285714285714|\n",
      "|user0_AmaranthDin...|           9.40625|\n",
      "|user12_AmberCaneT...| 8.153846153846153|\n",
      "|user7_AndroidGree...|10.028571428571428|\n",
      "|user12_AndroidGre...| 8.981132075471699|\n",
      "|user1_BattleshipG...|              11.5|\n",
      "|user0_AzureCassow...| 9.788461538461538|\n",
      "|user6_AntiqueBras...|              10.0|\n",
      "|user18_AmaranthKo...|10.112903225806452|\n",
      "|user5_AzureCassow...|10.666666666666666|\n",
      "|user19_AndroidGre...|10.471698113207546|\n",
      "|user5_BananaWalla...| 9.142857142857142|\n",
      "|user17_AmaranthDi...| 9.452054794520548|\n",
      "|user17_Battleship...|  9.95945945945946|\n",
      "|user10_AzureCasso...|10.133333333333333|\n",
      "|user17_ArmyGreenC...|           9.15625|\n",
      "|user19_AzureCasso...| 9.425925925925926|\n",
      "|user0_AmaranthDin...|              14.5|\n",
      "+--------------------+------------------+\n",
      "only showing top 20 rows\n",
      "\n",
      "+--------------------+------------------+\n",
      "|                 key|             value|\n",
      "+--------------------+------------------+\n",
      "|user3_AmaranthDin...|10.232142857142858|\n",
      "|user3_AntiqueBras...| 8.385964912280702|\n",
      "|user7_AmaranthDin...|10.714285714285714|\n",
      "|user0_AmaranthDin...|           9.40625|\n",
      "|user12_AmberCaneT...| 8.153846153846153|\n",
      "|user7_AndroidGree...|10.028571428571428|\n",
      "|user12_AndroidGre...| 8.981132075471699|\n",
      "|user1_BattleshipG...|              11.5|\n",
      "|user0_AzureCassow...| 9.788461538461538|\n",
      "|user6_AntiqueBras...|              10.0|\n",
      "|user18_AmaranthKo...|10.112903225806452|\n",
      "|user5_AzureCassow...|10.666666666666666|\n",
      "|user19_AndroidGre...|10.471698113207546|\n",
      "|user5_BananaWalla...| 9.142857142857142|\n",
      "|user17_AmaranthDi...| 9.452054794520548|\n",
      "|user17_Battleship...|  9.95945945945946|\n",
      "|user10_AzureCasso...|10.133333333333333|\n",
      "|user17_ArmyGreenC...|           9.15625|\n",
      "|user19_AzureCasso...| 9.425925925925926|\n",
      "|user0_AmaranthDin...|              14.5|\n",
      "+--------------------+------------------+\n",
      "only showing top 20 rows\n",
      "\n",
      "+--------------------+------------------+\n",
      "|                 key|             value|\n",
      "+--------------------+------------------+\n",
      "|user3_ArmyGreenCa...| 9.631578947368421|\n",
      "|user5_AuburnCocka...|           9.34375|\n",
      "|user0_AmaranthDin...|           9.40625|\n",
      "|user12_AmberCaneT...| 8.153846153846153|\n",
      "|user4_AmberCaneTo...| 9.818181818181818|\n",
      "|user19_AuburnDing...| 9.692307692307692|\n",
      "|user7_AmaranthMar...|          8.953125|\n",
      "|user7_ApricotDing...|              9.26|\n",
      "|user4_AndroidGree...| 8.673076923076923|\n",
      "|user1_ArmyGreenCa...|10.657142857142857|\n",
      "|user3_AmaranthDin...|10.232142857142858|\n",
      "|user3_AntiqueBras...| 8.385964912280702|\n",
      "|user7_AmaranthDin...|10.714285714285714|\n",
      "|user5_AmberCaneTo...|10.793650793650794|\n",
      "|Robot-3 ApricotDingo| 9.044642857142858|\n",
      "|user14_BananaWall...|10.295774647887324|\n",
      "|user10_BananaWall...| 9.706896551724139|\n",
      "|user6_AndroidGree...|10.421052631578947|\n",
      "|user6_AndroidGree...| 10.89090909090909|\n",
      "|user7_AndroidGree...|10.028571428571428|\n",
      "+--------------------+------------------+\n",
      "only showing top 20 rows\n",
      "\n",
      "+--------------------+------------------+\n",
      "|                 key|             value|\n",
      "+--------------------+------------------+\n",
      "|user3_ArmyGreenCa...| 9.631578947368421|\n",
      "|user5_AuburnCocka...|           9.34375|\n",
      "|user0_AmaranthDin...|           9.40625|\n",
      "|user12_AmberCaneT...| 8.153846153846153|\n",
      "|user4_AmberCaneTo...| 9.818181818181818|\n",
      "|user19_AuburnDing...| 9.692307692307692|\n",
      "|user7_AmaranthMar...|          8.953125|\n",
      "|user7_ApricotDing...|              9.26|\n",
      "|user4_AndroidGree...| 8.673076923076923|\n",
      "|user1_ArmyGreenCa...|10.657142857142857|\n",
      "|user3_AmaranthDin...|10.232142857142858|\n",
      "|user3_AntiqueBras...| 8.385964912280702|\n",
      "|user7_AmaranthDin...|10.714285714285714|\n",
      "|user5_AmberCaneTo...|10.793650793650794|\n",
      "|Robot-3 ApricotDingo| 9.044642857142858|\n",
      "|user14_BananaWall...|10.295774647887324|\n",
      "|user10_BananaWall...| 9.706896551724139|\n",
      "|user6_AndroidGree...|10.421052631578947|\n",
      "|user6_AndroidGree...| 10.89090909090909|\n",
      "|user7_AndroidGree...|10.028571428571428|\n",
      "+--------------------+------------------+\n",
      "only showing top 20 rows\n",
      "\n",
      "+--------------------+------------------+\n",
      "|                 key|             value|\n",
      "+--------------------+------------------+\n",
      "|user3_ArmyGreenCa...| 9.631578947368421|\n",
      "|user5_AuburnCocka...|           9.34375|\n",
      "|user0_AmaranthDin...|           9.40625|\n",
      "|user12_AmberCaneT...| 8.153846153846153|\n",
      "|user4_AmberCaneTo...| 9.818181818181818|\n",
      "|user19_AuburnDing...| 9.692307692307692|\n",
      "|user7_AmaranthMar...|          8.953125|\n",
      "|user7_ApricotDing...|              9.26|\n",
      "|user4_AndroidGree...| 8.673076923076923|\n",
      "|user1_ArmyGreenCa...|10.657142857142857|\n",
      "|user3_AmaranthDin...|10.232142857142858|\n",
      "|user3_AntiqueBras...| 8.385964912280702|\n",
      "|user7_AmaranthDin...|10.714285714285714|\n",
      "|user5_AmberCaneTo...|10.793650793650794|\n",
      "|Robot-3 ApricotDingo| 9.044642857142858|\n",
      "|user14_BananaWall...|10.295774647887324|\n",
      "|user10_BananaWall...| 9.706896551724139|\n",
      "|user6_AndroidGree...|10.421052631578947|\n",
      "|user6_AndroidGree...| 10.89090909090909|\n",
      "|user7_AndroidGree...|10.028571428571428|\n",
      "+--------------------+------------------+\n",
      "only showing top 20 rows\n",
      "\n",
      "+--------------------+------------------+\n",
      "|                 key|             value|\n",
      "+--------------------+------------------+\n",
      "|user3_ArmyGreenCa...| 9.631578947368421|\n",
      "|user5_AuburnCocka...|           9.34375|\n",
      "|user0_AmaranthDin...|           9.40625|\n",
      "|user12_AmberCaneT...| 8.153846153846153|\n",
      "|user4_AmberCaneTo...| 9.818181818181818|\n",
      "|user19_AuburnDing...| 9.692307692307692|\n",
      "|user7_AmaranthMar...|          8.953125|\n",
      "|user7_ApricotDing...|              9.26|\n",
      "|user4_AndroidGree...| 8.673076923076923|\n",
      "|user1_ArmyGreenCa...|10.657142857142857|\n",
      "|user3_AmaranthDin...|10.232142857142858|\n",
      "|user3_AntiqueBras...| 8.385964912280702|\n",
      "|user7_AmaranthDin...|10.714285714285714|\n",
      "|user5_AmberCaneTo...|10.793650793650794|\n",
      "|Robot-3 ApricotDingo| 9.044642857142858|\n",
      "|user14_BananaWall...|10.295774647887324|\n",
      "|user10_BananaWall...| 9.706896551724139|\n",
      "|user6_AndroidGree...|10.421052631578947|\n",
      "|user6_AndroidGree...| 10.89090909090909|\n",
      "|user7_AndroidGree...|10.028571428571428|\n",
      "+--------------------+------------------+\n",
      "only showing top 20 rows\n",
      "\n",
      "+--------------------+------------------+\n",
      "|                 key|             value|\n",
      "+--------------------+------------------+\n",
      "|user3_ArmyGreenCa...| 9.631578947368421|\n",
      "|user5_AuburnCocka...|           9.34375|\n",
      "|user0_AmaranthDin...|           9.40625|\n",
      "|user12_AmberCaneT...| 8.153846153846153|\n",
      "|user4_AmberCaneTo...| 9.818181818181818|\n",
      "|user19_AuburnDing...| 9.692307692307692|\n",
      "|user7_AmaranthMar...|          8.953125|\n",
      "|user7_ApricotDing...|              9.26|\n",
      "|user4_AndroidGree...| 8.673076923076923|\n",
      "|user1_ArmyGreenCa...|10.657142857142857|\n",
      "|user3_AmaranthDin...|10.232142857142858|\n",
      "|user3_AntiqueBras...| 8.385964912280702|\n",
      "|user7_AmaranthDin...|10.714285714285714|\n",
      "|user5_AmberCaneTo...|10.793650793650794|\n",
      "|Robot-3 ApricotDingo| 9.044642857142858|\n",
      "|user14_BananaWall...|10.295774647887324|\n",
      "|user10_BananaWall...| 9.706896551724139|\n",
      "|user6_AndroidGree...|10.421052631578947|\n",
      "|user6_AndroidGree...| 10.89090909090909|\n",
      "|user7_AndroidGree...|10.028571428571428|\n",
      "+--------------------+------------------+\n",
      "only showing top 20 rows\n",
      "\n"
     ]
    }
   ],
   "source": [
    "try:\n",
    "    for x in range(10):\n",
    "        spark.sql(\"SELECT * FROM avg_score_window_ex1\").show()\n",
    "        sleep(10)\n",
    "except KeyboardInterrupt:\n",
    "    query.stop()\n",
    "    # Stop the spark context\n",
    "    spark.stop()\n",
    "    \n",
    "    print(\"Stoped the streaming query and the spark context\")"
   ]
  },
  {
   "cell_type": "markdown",
   "id": "ab736885-420a-4df2-a0ed-68304cb470fa",
   "metadata": {},
   "source": [
    "### Exercise 2\n",
    "\n",
    "Refactor the above spark program to use the Kafka sources and sinks."
   ]
  },
  {
   "cell_type": "code",
   "execution_count": 7,
   "id": "aa962a41-00b9-48d1-bc7d-4cc506ee3dec",
   "metadata": {},
   "outputs": [],
   "source": [
    "data_schema = StructType([\n",
    "    StructField(\"uname\", StringType(), True),\n",
    "    StructField(\"tname\", StringType(), True),\n",
    "    StructField(\"score\", IntegerType(), True),\n",
    "    StructField(\"timestamp_in_ms\", LongType(), True),\n",
    "    StructField(\"readable_time\", StringType(), True)\n",
    "])"
   ]
  },
  {
   "cell_type": "code",
   "execution_count": 8,
   "id": "77530003-3ed6-4cd9-b4eb-671cc0cbb6ab",
   "metadata": {},
   "outputs": [],
   "source": [
    "# Read the whole dataset as a batch\n",
    "kafka_stream = spark.readStream.format(\"kafka\").option(\"kafka.bootstrap.servers\", \"kafka:9093\").option(\"subscribe\", \"game\").option(\"startingOffsets\", \"latest\").load()\n",
    "\n",
    "df = kafka_stream.selectExpr(\"CAST(value AS STRING)\")"
   ]
  },
  {
   "cell_type": "code",
   "execution_count": 9,
   "id": "161172df-5b73-4f27-8ba6-3fce3e4bc486",
   "metadata": {},
   "outputs": [
    {
     "name": "stdout",
     "output_type": "stream",
     "text": [
      "root\n",
      " |-- from_csv(value): struct (nullable = true)\n",
      " |    |-- uname: string (nullable = true)\n",
      " |    |-- tname: string (nullable = true)\n",
      " |    |-- score: integer (nullable = true)\n",
      " |    |-- timestamp_in_ms: long (nullable = true)\n",
      " |    |-- readable_time: string (nullable = true)\n",
      "\n"
     ]
    }
   ],
   "source": [
    "df1 = df.select(from_csv(df.value, data_schema.simpleString()))\n",
    "\n",
    "df1.printSchema()"
   ]
  },
  {
   "cell_type": "code",
   "execution_count": 10,
   "id": "145c9ec2-97be-4380-8da6-c8674916b2a4",
   "metadata": {},
   "outputs": [
    {
     "name": "stdout",
     "output_type": "stream",
     "text": [
      "root\n",
      " |-- uname: string (nullable = true)\n",
      " |-- tname: string (nullable = true)\n",
      " |-- score: integer (nullable = true)\n",
      " |-- timestamp_in_ms: long (nullable = true)\n",
      " |-- readable_time: string (nullable = true)\n",
      "\n"
     ]
    }
   ],
   "source": [
    "sdf = df1.select(col(\"from_csv(value).*\"))\n",
    "\n",
    "sdf.printSchema()"
   ]
  },
  {
   "cell_type": "code",
   "execution_count": 11,
   "id": "42da8939-82a4-4394-b59b-53de74df08f7",
   "metadata": {
    "tags": []
   },
   "outputs": [
    {
     "name": "stdout",
     "output_type": "stream",
     "text": [
      "root\n",
      " |-- uname: string (nullable = true)\n",
      " |-- tname: string (nullable = true)\n",
      " |-- score: integer (nullable = true)\n",
      " |-- timestamp_in_ms: long (nullable = true)\n",
      " |-- readable_time: string (nullable = true)\n",
      " |-- event_time: timestamp (nullable = true)\n",
      "\n"
     ]
    }
   ],
   "source": [
    "# Create the event time column \n",
    "with_even_time_df = sdf.selectExpr(\"*\", \"cast(timestamp_in_ms/1000.0 as timestamp) as event_time\")\n",
    "\n",
    "with_even_time_df.printSchema()\n",
    "\n",
    "avg_score_df = with_even_time_df.groupBy(window(col(\"event_time\"), \"10 seconds\"), \"uname\", \"tname\").agg(avg(\"score\").alias(\"value\"))\n",
    "\n",
    "result_df = avg_score_df.select(concat(col(\"uname\"), lit(\" \"), col(\"tname\")).alias(\"key\"), col(\"value\"))\n",
    "\n",
    "query = result_df.writeStream.queryName(\"avg_score_window_ex2\").format(\"memory\").outputMode(\"complete\").start()"
   ]
  },
  {
   "cell_type": "code",
   "execution_count": 12,
   "id": "440934b0-05e0-42fd-b29c-6d661cee3afe",
   "metadata": {},
   "outputs": [
    {
     "name": "stdout",
     "output_type": "stream",
     "text": [
      "+---+-----+\n",
      "|key|value|\n",
      "+---+-----+\n",
      "+---+-----+\n",
      "\n",
      "+---+-----+\n",
      "|key|value|\n",
      "+---+-----+\n",
      "+---+-----+\n",
      "\n",
      "+---+-----+\n",
      "|key|value|\n",
      "+---+-----+\n",
      "+---+-----+\n",
      "\n",
      "+---+-----+\n",
      "|key|value|\n",
      "+---+-----+\n",
      "+---+-----+\n",
      "\n",
      "+---+-----+\n",
      "|key|value|\n",
      "+---+-----+\n",
      "+---+-----+\n",
      "\n",
      "+---+-----+\n",
      "|key|value|\n",
      "+---+-----+\n",
      "+---+-----+\n",
      "\n",
      "+---+-----+\n",
      "|key|value|\n",
      "+---+-----+\n",
      "+---+-----+\n",
      "\n",
      "+---+-----+\n",
      "|key|value|\n",
      "+---+-----+\n",
      "+---+-----+\n",
      "\n",
      "+---+-----+\n",
      "|key|value|\n",
      "+---+-----+\n",
      "+---+-----+\n",
      "\n",
      "+---+-----+\n",
      "|key|value|\n",
      "+---+-----+\n",
      "+---+-----+\n",
      "\n"
     ]
    }
   ],
   "source": [
    "try:\n",
    "    for x in range(10):\n",
    "        spark.sql(\"SELECT * FROM avg_score_window_ex2\").show()\n",
    "        sleep(10)\n",
    "except KeyboardInterrupt:\n",
    "    query.stop()\n",
    "    # Stop the spark context\n",
    "    spark.stop()\n",
    "    \n",
    "    print(\"Stoped the streaming query and the spark context\")"
   ]
  },
  {
   "cell_type": "markdown",
   "id": "eee77431-6937-4d00-9a1f-9550e5c45171",
   "metadata": {},
   "source": [
    "### Exercise 3\n",
    "\n",
    "Publish data to game and consume data from avg_score."
   ]
  },
  {
   "cell_type": "code",
   "execution_count": 13,
   "id": "49c629b1-9e82-448e-b620-b0a5abe57b11",
   "metadata": {},
   "outputs": [],
   "source": [
    "data_schema = StructType([\n",
    "    StructField(\"uname\", StringType(), True),\n",
    "    StructField(\"tname\", StringType(), True),\n",
    "    StructField(\"score\", IntegerType(), True),\n",
    "    StructField(\"timestamp_in_ms\", LongType(), True),\n",
    "    StructField(\"readable_time\", StringType(), True)\n",
    "])"
   ]
  },
  {
   "cell_type": "code",
   "execution_count": 14,
   "id": "b23bced0-37ae-49f3-95e6-2c794e043a49",
   "metadata": {},
   "outputs": [],
   "source": [
    "# Read the whole dataset as a batch\n",
    "kafka_stream = spark.readStream.format(\"kafka\").option(\"kafka.bootstrap.servers\", \"kafka:9093\").option(\"failOnDataLoss\", \"false\").option(\"subscribe\", \"game\").option(\"startingOffsets\", \"latest\").load()\n",
    "\n",
    "df = kafka_stream.selectExpr(\"CAST(value AS STRING)\")"
   ]
  },
  {
   "cell_type": "code",
   "execution_count": 15,
   "id": "c8adfc4a-dfb0-46e9-996b-df71ee54be05",
   "metadata": {},
   "outputs": [
    {
     "name": "stdout",
     "output_type": "stream",
     "text": [
      "root\n",
      " |-- from_csv(value): struct (nullable = true)\n",
      " |    |-- uname: string (nullable = true)\n",
      " |    |-- tname: string (nullable = true)\n",
      " |    |-- score: integer (nullable = true)\n",
      " |    |-- timestamp_in_ms: long (nullable = true)\n",
      " |    |-- readable_time: string (nullable = true)\n",
      "\n"
     ]
    }
   ],
   "source": [
    "df1 = df.select(from_csv(df.value, data_schema.simpleString()))\n",
    "\n",
    "df1.printSchema()"
   ]
  },
  {
   "cell_type": "code",
   "execution_count": 16,
   "id": "9796f8a3-3b81-4dec-b260-be436afb8762",
   "metadata": {},
   "outputs": [
    {
     "name": "stdout",
     "output_type": "stream",
     "text": [
      "root\n",
      " |-- uname: string (nullable = true)\n",
      " |-- tname: string (nullable = true)\n",
      " |-- score: integer (nullable = true)\n",
      " |-- timestamp_in_ms: long (nullable = true)\n",
      " |-- readable_time: string (nullable = true)\n",
      "\n"
     ]
    }
   ],
   "source": [
    "sdf = df1.select(col(\"from_csv(value).*\"))\n",
    "\n",
    "sdf.printSchema()"
   ]
  },
  {
   "cell_type": "code",
   "execution_count": 17,
   "id": "264ddfeb-0d8d-4012-8861-210d56415873",
   "metadata": {},
   "outputs": [
    {
     "name": "stdout",
     "output_type": "stream",
     "text": [
      "root\n",
      " |-- uname: string (nullable = true)\n",
      " |-- tname: string (nullable = true)\n",
      " |-- score: integer (nullable = true)\n",
      " |-- timestamp_in_ms: long (nullable = true)\n",
      " |-- readable_time: string (nullable = true)\n",
      " |-- event_time: timestamp (nullable = true)\n",
      "\n",
      "root\n",
      " |-- key: string (nullable = true)\n",
      " |-- value: string (nullable = true)\n",
      "\n"
     ]
    }
   ],
   "source": [
    "# Create the event time column \n",
    "with_event_time_df = sdf.selectExpr(\"*\", \"cast(timestamp_in_ms/1000.0 as timestamp) as event_time\")\n",
    "\n",
    "with_event_time_df.printSchema()\n",
    "\n",
    "avg_score_df = with_event_time_df.groupBy(window(col(\"event_time\"), \"10 seconds\"), \"uname\", \"tname\").agg(avg(\"score\").alias(\"value\"))\n",
    "\n",
    "result_df = avg_score_df.select(concat(col(\"uname\"), lit(\" \"), col(\"tname\")).alias(\"key\"), col(\"value\").cast(\"string\"))\n",
    "\n",
    "result_df.printSchema()\n",
    "\n",
    "query = result_df.writeStream.format(\"kafka\").option(\"kafka.bootstrap.servers\", \"kafka:9093\").option(\"checkpointLocation\", \"../checkpoint\").option(\"topic\", \"avg_score\").outputMode(\"complete\").start()"
   ]
  },
  {
   "cell_type": "code",
   "execution_count": null,
   "id": "2c1a1069-3bb7-4c36-8f19-a9bdd07f4a6f",
   "metadata": {},
   "outputs": [],
   "source": [
    "try:\n",
    "    query.awaitTermination()\n",
    "except KeyboardInterrupt:\n",
    "    query.stop()\n",
    "    # Stop the spark context\n",
    "    spark.stop()\n",
    "    \n",
    "    print(\"Stoped the streaming query and the spark context\")"
   ]
  },
  {
   "cell_type": "code",
   "execution_count": 19,
   "id": "1913f44d-e095-4cb6-beaa-8e4ccde47609",
   "metadata": {},
   "outputs": [],
   "source": [
    "# Stop the spark context\n",
    "spark.stop()"
   ]
  }
 ],
 "metadata": {
  "kernelspec": {
   "display_name": "Python 3",
   "language": "python",
   "name": "python3"
  },
  "language_info": {
   "codemirror_mode": {
    "name": "ipython",
    "version": 3
   },
   "file_extension": ".py",
   "mimetype": "text/x-python",
   "name": "python",
   "nbconvert_exporter": "python",
   "pygments_lexer": "ipython3",
   "version": "3.9.4"
  }
 },
 "nbformat": 4,
 "nbformat_minor": 5
}
