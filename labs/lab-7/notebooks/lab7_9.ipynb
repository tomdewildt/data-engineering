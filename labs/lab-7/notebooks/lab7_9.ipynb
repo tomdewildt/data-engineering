{
 "cells": [
  {
   "cell_type": "code",
   "execution_count": 1,
   "id": "e9c87bb7-7c57-4ce1-a197-6d061a01e9d3",
   "metadata": {},
   "outputs": [],
   "source": [
    "from pyspark import SparkConf\n",
    "from pyspark.sql import SparkSession\n",
    "from pyspark.sql.functions import explode, split, concat, col, lit\n",
    "from pyspark.sql.types import StructType, StructField, LongType, StringType, DoubleType\n",
    "from time import sleep"
   ]
  },
  {
   "cell_type": "code",
   "execution_count": 2,
   "id": "e8720a44-948d-4a11-a00b-1049b58f533a",
   "metadata": {},
   "outputs": [],
   "source": [
    "spark_conf = SparkConf()\n",
    "spark_conf.setMaster(\"spark://master:7077\")\n",
    "spark_conf.setAppName(\"Lab7_9\")\n",
    "spark_conf.set(\"spark.driver.memory\", \"2g\")\n",
    "spark_conf.set(\"spark.executor.cores\", \"1\")\n",
    "spark_conf.set(\"spark.driver.cores\", \"1\")\n",
    "\n",
    "# create the spark session, which is the entry point to Spark SQL engine.\n",
    "spark = SparkSession.builder.config(conf=spark_conf).getOrCreate()"
   ]
  },
  {
   "cell_type": "code",
   "execution_count": 3,
   "id": "c38bd0ce-4d92-4733-8c0a-ee9478e2c39a",
   "metadata": {},
   "outputs": [],
   "source": [
    "# Read the whole dataset as a batch\n",
    "df = spark.readStream.format(\"kafka\").option(\"kafka.bootstrap.servers\", \"kafka:9093\").option(\"subscribe\", \"word\").option(\"startingOffsets\", \"earliest\").load()"
   ]
  },
  {
   "cell_type": "code",
   "execution_count": 4,
   "id": "b6c4e37c-7d19-4f73-9552-728a8d6c092f",
   "metadata": {},
   "outputs": [],
   "source": [
    "lines = df.selectExpr(\"CAST(value AS STRING)\")\n",
    "\n",
    "words = lines.select(explode(split(lines.value, \" \")).alias(\"word\"))\n",
    "\n",
    "word_counts = words.groupBy(\"word\").count()"
   ]
  },
  {
   "cell_type": "code",
   "execution_count": null,
   "id": "a2c01b98-bcac-4301-a6f7-1e0f4cb9f5b9",
   "metadata": {},
   "outputs": [],
   "source": [
    "query = word_counts.select(concat(col(\"word\"), lit(\" \"), col(\"count\")).alias(\"value\")).writeStream.format(\"kafka\").option(\"kafka.bootstrap.servers\", \"kafka:9093\").option(\"checkpointLocation\", \"../checkpoint\").option(\"topic\", \"wordcount\").outputMode(\"complete\").start()\n",
    "\n",
    "query.awaitTermination()"
   ]
  },
  {
   "cell_type": "code",
   "execution_count": 6,
   "id": "f6d06d26-572b-473c-99a5-87d3bd4156d8",
   "metadata": {},
   "outputs": [],
   "source": [
    "# Stop the spark context\n",
    "spark.stop()"
   ]
  }
 ],
 "metadata": {
  "kernelspec": {
   "display_name": "Python 3",
   "language": "python",
   "name": "python3"
  },
  "language_info": {
   "codemirror_mode": {
    "name": "ipython",
    "version": 3
   },
   "file_extension": ".py",
   "mimetype": "text/x-python",
   "name": "python",
   "nbconvert_exporter": "python",
   "pygments_lexer": "ipython3",
   "version": "3.9.4"
  }
 },
 "nbformat": 4,
 "nbformat_minor": 5
}
