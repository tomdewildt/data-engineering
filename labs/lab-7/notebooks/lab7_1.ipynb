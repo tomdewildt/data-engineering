{
 "cells": [
  {
   "cell_type": "code",
   "execution_count": 1,
   "id": "d3d3e2d7-d0ac-4c6b-9500-28702f283057",
   "metadata": {},
   "outputs": [],
   "source": [
    "from pyspark.sql import SparkSession\n",
    "from pyspark import SparkConf\n",
    "from pyspark.sql.types import StructType, StructField, LongType, StringType, DoubleType\n",
    "from time import sleep"
   ]
  },
  {
   "cell_type": "code",
   "execution_count": 2,
   "id": "e8720a44-948d-4a11-a00b-1049b58f533a",
   "metadata": {},
   "outputs": [],
   "source": [
    "spark_conf = SparkConf()\n",
    "spark_conf.setMaster(\"spark://master:7077\")\n",
    "spark_conf.setAppName(\"Lab7_1\")\n",
    "spark_conf.set(\"spark.driver.memory\", \"2g\")\n",
    "spark_conf.set(\"spark.executor.cores\", \"1\")\n",
    "spark_conf.set(\"spark.driver.cores\", \"1\")\n",
    "\n",
    "# Create the spark session, which is the entry point to Spark SQL engine.\n",
    "spark = SparkSession.builder.config(conf=spark_conf).getOrCreate()"
   ]
  },
  {
   "cell_type": "code",
   "execution_count": 3,
   "id": "e283487a-c057-4cc6-9ad6-bc5f9ee8176c",
   "metadata": {},
   "outputs": [],
   "source": [
    "data_schema = StructType([\n",
    "    StructField(\"Arrival_Time\", LongType(), True),\n",
    "    StructField(\"Creation_Time\", LongType(), True),\n",
    "    StructField(\"Device\", StringType(), True),\n",
    "    StructField(\"Index\", LongType(), True),\n",
    "    StructField(\"Model\", StringType(), True),\n",
    "    StructField(\"User\", StringType(), True),\n",
    "    StructField(\"gt\", StringType(), True),\n",
    "    StructField(\"x\", DoubleType(), True),\n",
    "    StructField(\"y\", DoubleType(), True),\n",
    "    StructField(\"z\", DoubleType(), True),\n",
    "])"
   ]
  },
  {
   "cell_type": "code",
   "execution_count": 4,
   "id": "7783e33f-940b-41ac-aee6-74b3d053c2e8",
   "metadata": {},
   "outputs": [],
   "source": [
    "# Read from a source \n",
    "sdf = spark.readStream.schema(data_schema).option(\"maxFilesPerTrigger\", 1).json(\"../data/activity\")"
   ]
  },
  {
   "cell_type": "code",
   "execution_count": 5,
   "id": "9a74d55a-dade-4f87-b0ec-4d1cf8608d7f",
   "metadata": {},
   "outputs": [],
   "source": [
    "# Do a calculation\n",
    "activity_counts = sdf.groupBy(\"gt\").count()"
   ]
  },
  {
   "cell_type": "code",
   "execution_count": 6,
   "id": "177c7d00-407d-4f2e-bb41-07c0c0fb69f4",
   "metadata": {},
   "outputs": [],
   "source": [
    "# Write to a sink - here, the output is memory (only for testing). The query name (i.e., activity_counts) will be the Spark SQL table name.\n",
    "activity_query = activity_counts.writeStream.queryName(\"activity_counts\").format(\"memory\").outputMode(\"complete\").start()"
   ]
  },
  {
   "cell_type": "code",
   "execution_count": 7,
   "id": "2a0ddb3a-1228-4bcf-a871-3c2f86d13499",
   "metadata": {},
   "outputs": [
    {
     "name": "stdout",
     "output_type": "stream",
     "text": [
      "+---+-----+\n",
      "| gt|count|\n",
      "+---+-----+\n",
      "+---+-----+\n",
      "\n",
      "+---+-----+\n",
      "| gt|count|\n",
      "+---+-----+\n",
      "+---+-----+\n",
      "\n",
      "+---+-----+\n",
      "| gt|count|\n",
      "+---+-----+\n",
      "+---+-----+\n",
      "\n",
      "+---+-----+\n",
      "| gt|count|\n",
      "+---+-----+\n",
      "+---+-----+\n",
      "\n",
      "+----------+-----+\n",
      "|        gt|count|\n",
      "+----------+-----+\n",
      "|  stairsup|10452|\n",
      "|       sit|12309|\n",
      "|     stand|11384|\n",
      "|      walk|13256|\n",
      "|      bike|10796|\n",
      "|stairsdown| 9365|\n",
      "|      null|10449|\n",
      "+----------+-----+\n",
      "\n",
      "+----------+-----+\n",
      "|        gt|count|\n",
      "+----------+-----+\n",
      "|  stairsup|20905|\n",
      "|       sit|24619|\n",
      "|     stand|22769|\n",
      "|      walk|26512|\n",
      "|      bike|21593|\n",
      "|stairsdown|18729|\n",
      "|      null|20896|\n",
      "+----------+-----+\n",
      "\n",
      "+----------+-----+\n",
      "|        gt|count|\n",
      "+----------+-----+\n",
      "|  stairsup|31357|\n",
      "|       sit|36929|\n",
      "|     stand|34154|\n",
      "|      walk|39768|\n",
      "|      bike|32390|\n",
      "|stairsdown|28094|\n",
      "|      null|31343|\n",
      "+----------+-----+\n",
      "\n",
      "+----------+-----+\n",
      "|        gt|count|\n",
      "+----------+-----+\n",
      "|  stairsup|31357|\n",
      "|       sit|36929|\n",
      "|     stand|34154|\n",
      "|      walk|39768|\n",
      "|      bike|32390|\n",
      "|stairsdown|28094|\n",
      "|      null|31343|\n",
      "+----------+-----+\n",
      "\n",
      "+----------+-----+\n",
      "|        gt|count|\n",
      "+----------+-----+\n",
      "|  stairsup|31357|\n",
      "|       sit|36929|\n",
      "|     stand|34154|\n",
      "|      walk|39768|\n",
      "|      bike|32390|\n",
      "|stairsdown|28094|\n",
      "|      null|31343|\n",
      "+----------+-----+\n",
      "\n",
      "+----------+-----+\n",
      "|        gt|count|\n",
      "+----------+-----+\n",
      "|  stairsup|31357|\n",
      "|       sit|36929|\n",
      "|     stand|34154|\n",
      "|      walk|39768|\n",
      "|      bike|32390|\n",
      "|stairsdown|28094|\n",
      "|      null|31343|\n",
      "+----------+-----+\n",
      "\n"
     ]
    }
   ],
   "source": [
    "# Testing \n",
    "for x in range(10):\n",
    "    spark.sql(\"SELECT * FROM activity_counts\").show()\n",
    "    sleep(5)"
   ]
  },
  {
   "cell_type": "code",
   "execution_count": 8,
   "id": "f6d06d26-572b-473c-99a5-87d3bd4156d8",
   "metadata": {},
   "outputs": [],
   "source": [
    "# Stop the spark context\n",
    "spark.stop()"
   ]
  }
 ],
 "metadata": {
  "kernelspec": {
   "display_name": "Python 3",
   "language": "python",
   "name": "python3"
  },
  "language_info": {
   "codemirror_mode": {
    "name": "ipython",
    "version": 3
   },
   "file_extension": ".py",
   "mimetype": "text/x-python",
   "name": "python",
   "nbconvert_exporter": "python",
   "pygments_lexer": "ipython3",
   "version": "3.9.4"
  }
 },
 "nbformat": 4,
 "nbformat_minor": 5
}
