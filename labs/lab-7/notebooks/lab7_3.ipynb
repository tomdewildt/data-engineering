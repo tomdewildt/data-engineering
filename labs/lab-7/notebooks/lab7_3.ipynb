{
 "cells": [
  {
   "cell_type": "code",
   "execution_count": 1,
   "id": "fdbefa92-1aa6-4f98-8c43-a345e3fe85bf",
   "metadata": {
    "tags": []
   },
   "outputs": [],
   "source": [
    "from pyspark.sql import SparkSession\n",
    "from pyspark import SparkConf\n",
    "from pyspark.sql.types import StructType, StructField, LongType, StringType, DoubleType\n",
    "from time import sleep"
   ]
  },
  {
   "cell_type": "code",
   "execution_count": 2,
   "id": "e8720a44-948d-4a11-a00b-1049b58f533a",
   "metadata": {},
   "outputs": [],
   "source": [
    "spark_conf = SparkConf()\n",
    "spark_conf.setMaster(\"spark://master:7077\")\n",
    "spark_conf.setAppName(\"Lab7_3\")\n",
    "spark_conf.set(\"spark.driver.memory\", \"2g\")\n",
    "spark_conf.set(\"spark.executor.cores\", \"1\")\n",
    "spark_conf.set(\"spark.driver.cores\", \"1\")\n",
    "\n",
    "# Create the spark session, which is the entry point to Spark SQL engine.\n",
    "spark = SparkSession.builder.config(conf=spark_conf).getOrCreate()"
   ]
  },
  {
   "cell_type": "code",
   "execution_count": 3,
   "id": "f049609f-dbf0-42ee-ab03-3784cea18e66",
   "metadata": {},
   "outputs": [],
   "source": [
    "# We need to set the following configuration whenever we need to use GCS.\n",
    "# Setup hadoop fs configuration for schema gs://\n",
    "hadoop_conf = spark.sparkContext._jsc.hadoopConfiguration()\n",
    "hadoop_conf.set(\"fs.gs.impl\", \"com.google.cloud.hadoop.fs.gcs.GoogleHadoopFileSystem\")\n",
    "hadoop_conf.set(\"fs.AbstractFileSystem.gs.impl\", \"com.google.cloud.hadoop.fs.gcs.GoogleHadoopFS\")\n",
    "\n",
    "# Use the Cloud Storage bucket for temporary BigQuery export data used by the connector.\n",
    "bucket = \"delabs-temp\"\n",
    "spark.conf.set(\"temporaryGcsBucket\", bucket)"
   ]
  },
  {
   "cell_type": "code",
   "execution_count": 4,
   "id": "ed147662-5de6-4711-9ed5-26b4f8285006",
   "metadata": {},
   "outputs": [],
   "source": [
    "data_schema = StructType([\n",
    "    StructField(\"Arrival_Time\", LongType(), True),\n",
    "    StructField(\"Creation_Time\", LongType(), True),\n",
    "    StructField(\"Device\", StringType(), True),\n",
    "    StructField(\"Index\", LongType(), True),\n",
    "    StructField(\"Model\", StringType(), True),\n",
    "    StructField(\"User\", StringType(), True),\n",
    "    StructField(\"gt\", StringType(), True),\n",
    "    StructField(\"x\", DoubleType(), True),\n",
    "    StructField(\"y\", DoubleType(), True),\n",
    "    StructField(\"z\", DoubleType(), True),\n",
    "])"
   ]
  },
  {
   "cell_type": "code",
   "execution_count": 5,
   "id": "9536b47f-8df0-4603-9377-10de7abd052c",
   "metadata": {},
   "outputs": [],
   "source": [
    "# Read from a source \n",
    "sdf = spark.readStream.schema(data_schema).option(\"maxFilesPerTrigger\", 1).json(\"../data/activity\")"
   ]
  },
  {
   "cell_type": "code",
   "execution_count": 6,
   "id": "3d06ef6b-b160-4907-acc9-ac8bffc21129",
   "metadata": {},
   "outputs": [],
   "source": [
    "# Do a calculation\n",
    "activity_counts = sdf.groupBy(\"gt\").count()"
   ]
  },
  {
   "cell_type": "code",
   "execution_count": 7,
   "id": "b3d1aa1e-7f2f-4649-b9a6-c1a4092f5933",
   "metadata": {},
   "outputs": [],
   "source": [
    "def batch_function(df, batch_id):\n",
    "   # Saving the data to BigQuery as batch processing sink -see, use write(), save(), etc.\n",
    "    df.write.format(\"bigquery\").option(\"table\", \"delabs.lab7.activitycounts\").mode(\"overwrite\").save()"
   ]
  },
  {
   "cell_type": "code",
   "execution_count": 8,
   "id": "7f5e604a-a978-4a53-a7ca-5ccbb8e82163",
   "metadata": {},
   "outputs": [],
   "source": [
    "# Write to a sink - here, the output is written to a Big Query Table\n",
    "# Use your gcp bucket name. \n",
    "# ProcessingTime trigger with two-seconds micro-batch interval\n",
    "activity_query = activity_counts.writeStream.outputMode(\"complete\").trigger(processingTime = \"2 seconds\").foreachBatch(batch_function).start()"
   ]
  },
  {
   "cell_type": "code",
   "execution_count": 9,
   "id": "240dd4c2-290c-45eb-a6fe-ce3b1fe67d38",
   "metadata": {},
   "outputs": [
    {
     "name": "stdout",
     "output_type": "stream",
     "text": [
      "Stoped the streaming query and the spark context\n"
     ]
    }
   ],
   "source": [
    "try:\n",
    "    activity_query.awaitTermination()\n",
    "except KeyboardInterrupt:\n",
    "    activity_query.stop()\n",
    "    # Stop the spark context\n",
    "    spark.stop()\n",
    "    \n",
    "    print(\"Stoped the streaming query and the spark context\")"
   ]
  },
  {
   "cell_type": "code",
   "execution_count": 10,
   "id": "f6d06d26-572b-473c-99a5-87d3bd4156d8",
   "metadata": {},
   "outputs": [],
   "source": [
    "# Stop the spark context\n",
    "spark.stop()"
   ]
  }
 ],
 "metadata": {
  "kernelspec": {
   "display_name": "Python 3",
   "language": "python",
   "name": "python3"
  },
  "language_info": {
   "codemirror_mode": {
    "name": "ipython",
    "version": 3
   },
   "file_extension": ".py",
   "mimetype": "text/x-python",
   "name": "python",
   "nbconvert_exporter": "python",
   "pygments_lexer": "ipython3",
   "version": "3.9.4"
  }
 },
 "nbformat": 4,
 "nbformat_minor": 5
}
