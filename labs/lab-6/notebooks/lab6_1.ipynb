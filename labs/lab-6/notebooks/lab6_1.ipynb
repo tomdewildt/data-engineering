{
 "cells": [
  {
   "cell_type": "code",
   "execution_count": 1,
   "id": "098e7d39-9c20-4767-b4de-b6cef3b17833",
   "metadata": {},
   "outputs": [],
   "source": [
    "from pyspark.sql import SparkSession\n",
    "from pyspark import SparkConf"
   ]
  },
  {
   "cell_type": "code",
   "execution_count": 2,
   "id": "256a06e8-5c19-493f-b597-b21467b7d585",
   "metadata": {},
   "outputs": [],
   "source": [
    "spark_conf = SparkConf()\n",
    "spark_conf.setMaster(\"spark://master:7077\")\n",
    "spark_conf.setAppName(\"BigqueryExample\")\n",
    "spark_conf.set(\"spark.driver.memory\", \"2g\")\n",
    "spark_conf.set(\"spark.executor.cores\", \"1\")\n",
    "spark_conf.set(\"spark.driver.cores\", \"1\")\n",
    "\n",
    "# Create the spark session, which is the entry point to Spark SQL engine.\n",
    "spark = SparkSession.builder.config(conf=spark_conf).getOrCreate()"
   ]
  },
  {
   "cell_type": "code",
   "execution_count": 3,
   "id": "bf45e9ce-b60e-48fc-b8b8-4bd2bcc95e7e",
   "metadata": {},
   "outputs": [
    {
     "name": "stdout",
     "output_type": "stream",
     "text": [
      "root\n",
      " |-- InvoiceNo: long (nullable = true)\n",
      " |-- StockCode: long (nullable = true)\n",
      " |-- Description: string (nullable = true)\n",
      " |-- Quantity: long (nullable = true)\n",
      " |-- InvoiceDate: string (nullable = true)\n",
      " |-- UnitPrice: double (nullable = true)\n",
      " |-- CustomerID: long (nullable = true)\n",
      " |-- Country: string (nullable = true)\n",
      "\n",
      "+---------+---------+--------------------+--------+--------------+---------+----------+--------------+\n",
      "|InvoiceNo|StockCode|         Description|Quantity|   InvoiceDate|UnitPrice|CustomerID|       Country|\n",
      "+---------+---------+--------------------+--------+--------------+---------+----------+--------------+\n",
      "|   536365|    85123|WHITE HANGING HEA...|       6|12/1/2010 8:26|     2.55|     17850|United Kingdom|\n",
      "|   536365|    71053| WHITE METAL LANTERN|       6|12/1/2010 8:26|     3.39|     17850|United Kingdom|\n",
      "|   536369|    21756|BATH BUILDING BLO...|       3|12/1/2010 8:35|     5.95|     13047|United Kingdom|\n",
      "|   536370|    21791|VINTAGE HEADS AND...|      24|12/1/2010 8:45|     1.25|     12583|        France|\n",
      "+---------+---------+--------------------+--------+--------------+---------+----------+--------------+\n",
      "only showing top 4 rows\n",
      "\n"
     ]
    }
   ],
   "source": [
    "# Load data from BigQuery.\n",
    "df = spark.read.format(\"bigquery\").load(\"delabs.lab6.retaildata\")\n",
    "df.printSchema()\n",
    "df.show(4)"
   ]
  },
  {
   "cell_type": "markdown",
   "id": "5f69c42a-7b8c-4e35-9f3d-d40d8de19214",
   "metadata": {},
   "source": [
    "how many distinct products have been sold in each store? "
   ]
  },
  {
   "cell_type": "code",
   "execution_count": 4,
   "id": "9aa9657f-b894-4530-b00d-353231ae26b3",
   "metadata": {},
   "outputs": [],
   "source": [
    "from pyspark.sql.functions import explode, split, concat, col, lit, desc"
   ]
  },
  {
   "cell_type": "code",
   "execution_count": 5,
   "id": "fcc8360b-27dc-41b8-95ac-04de84b4f3fa",
   "metadata": {},
   "outputs": [
    {
     "name": "stdout",
     "output_type": "stream",
     "text": [
      "+----+-----+\n",
      "|word|count|\n",
      "+----+-----+\n",
      "| BOX|    1|\n",
      "| OF4|    1|\n",
      "| RED|    1|\n",
      "+----+-----+\n",
      "only showing top 3 rows\n",
      "\n"
     ]
    }
   ],
   "source": [
    "words = df.where(df.Country == \"France\").select(\"Description\").select(\n",
    "    explode(split(col(\"Description\"), \" \")).alias(\"word\")\n",
    ")\n",
    "\n",
    "ordered_word_count = words.groupby(words.word).count().orderBy(col(\"count\").desc())\n",
    "ordered_word_count.show(3)"
   ]
  },
  {
   "cell_type": "code",
   "execution_count": 6,
   "id": "5d6d4994-cdb2-4870-ae2e-0bb64da9a469",
   "metadata": {},
   "outputs": [],
   "source": [
    "# Use the Cloud Storage bucket for temporary BigQuery export data used by the connector.\n",
    "spark.conf.set(\"temporaryGcsBucket\", \"delabs-temp\")"
   ]
  },
  {
   "cell_type": "code",
   "execution_count": 7,
   "id": "e1cca67b-6528-43c5-b349-e8b8a8c2201b",
   "metadata": {},
   "outputs": [],
   "source": [
    "# Setup hadoop fs configuration for schema gs://\n",
    "conf = spark.sparkContext._jsc.hadoopConfiguration()\n",
    "conf.set(\"fs.gs.impl\", \"com.google.cloud.hadoop.fs.gcs.GoogleHadoopFileSystem\")\n",
    "conf.set(\"fs.AbstractFileSystem.gs.impl\", \"com.google.cloud.hadoop.fs.gcs.GoogleHadoopFS\")"
   ]
  },
  {
   "cell_type": "code",
   "execution_count": 8,
   "id": "3f460615-65b6-451c-a808-b10e8aa4bc0d",
   "metadata": {},
   "outputs": [],
   "source": [
    "# Saving the data to BigQuery\n",
    "ordered_word_count.write.format(\"bigquery\").option(\"table\", \"delabs.lab6.wordcounts\").mode(\"append\").save()"
   ]
  },
  {
   "cell_type": "code",
   "execution_count": 9,
   "id": "aa621131-26cb-48a8-8f6b-6e01934395ae",
   "metadata": {},
   "outputs": [],
   "source": [
    "# Stop the spark context\n",
    "spark.stop()"
   ]
  }
 ],
 "metadata": {
  "kernelspec": {
   "display_name": "Python 3",
   "language": "python",
   "name": "python3"
  },
  "language_info": {
   "codemirror_mode": {
    "name": "ipython",
    "version": 3
   },
   "file_extension": ".py",
   "mimetype": "text/x-python",
   "name": "python",
   "nbconvert_exporter": "python",
   "pygments_lexer": "ipython3",
   "version": "3.9.4"
  }
 },
 "nbformat": 4,
 "nbformat_minor": 5
}
