{
 "cells": [
  {
   "cell_type": "code",
   "execution_count": 1,
   "id": "fd56d8e3-dd15-401a-8e51-f71a27788275",
   "metadata": {},
   "outputs": [],
   "source": [
    "from pyspark.sql import SparkSession\n",
    "from pyspark import SparkConf"
   ]
  },
  {
   "cell_type": "code",
   "execution_count": 2,
   "id": "256a06e8-5c19-493f-b597-b21467b7d585",
   "metadata": {},
   "outputs": [],
   "source": [
    "spark_conf = SparkConf()\n",
    "spark_conf.setMaster(\"spark://master:7077\")\n",
    "spark_conf.setAppName(\"Lab6_Exercises\")\n",
    "spark_conf.set(\"spark.driver.memory\", \"2g\")\n",
    "spark_conf.set(\"spark.executor.cores\", \"1\")\n",
    "spark_conf.set(\"spark.driver.cores\", \"1\")\n",
    "\n",
    "# create the spark session, which is the entry point to Spark SQL engine.\n",
    "spark = SparkSession.builder.config(conf=spark_conf).getOrCreate()"
   ]
  },
  {
   "cell_type": "markdown",
   "id": "34958426-b01a-4161-aef9-6e2c81e9cc9c",
   "metadata": {},
   "source": [
    "### Exercise 1"
   ]
  },
  {
   "cell_type": "code",
   "execution_count": 3,
   "id": "3f686241-aea1-49c7-8e22-02d6a1fe14f4",
   "metadata": {},
   "outputs": [
    {
     "name": "stdout",
     "output_type": "stream",
     "text": [
      "root\n",
      " |-- order_id: string (nullable = true)\n",
      " |-- product_id: string (nullable = true)\n",
      " |-- date: string (nullable = true)\n",
      " |-- quantity: string (nullable = true)\n",
      "\n",
      "+--------+----------+----------+--------+\n",
      "|order_id|product_id|      date|quantity|\n",
      "+--------+----------+----------+--------+\n",
      "|       1|        31|2021-08-10|      92|\n",
      "|       2|        38|2021-08-02|      46|\n",
      "|       3|        47|2021-08-01|      48|\n",
      "|       4|        33|2021-08-09|      18|\n",
      "|       5|        29|2021-08-05|      39|\n",
      "+--------+----------+----------+--------+\n",
      "only showing top 5 rows\n",
      "\n"
     ]
    }
   ],
   "source": [
    "sales_df = spark.read.format(\"csv\").option(\"header\", \"true\").load(\"../data/sales_e1.csv\")\n",
    "sales_df.printSchema()\n",
    "sales_df.show(5)"
   ]
  },
  {
   "cell_type": "code",
   "execution_count": 4,
   "id": "894df043-6485-480e-bb7b-6d3555a71ff6",
   "metadata": {},
   "outputs": [
    {
     "name": "stdout",
     "output_type": "stream",
     "text": [
      "root\n",
      " |-- product_id: string (nullable = true)\n",
      " |-- product_name: string (nullable = true)\n",
      " |-- unit_price: string (nullable = true)\n",
      "\n",
      "+----------+------------+----------+\n",
      "|product_id|product_name|unit_price|\n",
      "+----------+------------+----------+\n",
      "|         0|   product_0|        22|\n",
      "|         1|   product_1|         2|\n",
      "|         2|   product_2|         6|\n",
      "|         3|   product_3|         3|\n",
      "|         4|   product_4|        12|\n",
      "+----------+------------+----------+\n",
      "only showing top 5 rows\n",
      "\n"
     ]
    }
   ],
   "source": [
    "products_df = spark.read.format(\"csv\").option(\"header\", \"true\").load(\"../data/products_e1.csv\")\n",
    "products_df.printSchema()\n",
    "products_df.show(5)"
   ]
  },
  {
   "cell_type": "markdown",
   "id": "291c0260-b2b9-448b-8e5a-0676c4b2364d",
   "metadata": {},
   "source": [
    "**Exercise 1.1**\n",
    "\n",
    "Find the best performing product in terms of the total price of the sold items for any date"
   ]
  },
  {
   "cell_type": "code",
   "execution_count": 5,
   "id": "ecf752f3-d511-4235-9c80-072d86bd48c8",
   "metadata": {},
   "outputs": [],
   "source": [
    "from pyspark.sql.functions import *\n",
    "from pyspark.sql import Row, Window"
   ]
  },
  {
   "cell_type": "code",
   "execution_count": 6,
   "id": "1943a2bd-8b28-46d7-9d75-48bfdd4456be",
   "metadata": {},
   "outputs": [],
   "source": [
    "# Calcuate the number of pieces sold by each seller for each product\n",
    "sales_df_total = sales_df.groupby(col(\"product_id\")).agg(sum(\"quantity\").alias(\"total_quantity\"))"
   ]
  },
  {
   "cell_type": "code",
   "execution_count": 7,
   "id": "d039cc0e-c6ef-45a1-a0a0-aa5b8076c73c",
   "metadata": {},
   "outputs": [
    {
     "name": "stdout",
     "output_type": "stream",
     "text": [
      "+----------+--------------+------------+----------+-----------+\n",
      "|product_id|total_quantity|product_name|unit_price|total_price|\n",
      "+----------+--------------+------------+----------+-----------+\n",
      "|         7|        1924.0|   product_7|        15|    28860.0|\n",
      "|        15|        3075.0|  product_15|        15|    46125.0|\n",
      "|        11|        2422.0|  product_11|         4|     9688.0|\n",
      "|        29|        2868.0|  product_29|         1|     2868.0|\n",
      "|        42|        2414.0|  product_42|         3|     7242.0|\n",
      "|         3|        1859.0|   product_3|         3|     5577.0|\n",
      "|        30|        2175.0|  product_30|        12|    26100.0|\n",
      "|        34|        3582.0|  product_34|         9|    32238.0|\n",
      "|         8|        2775.0|   product_8|         5|    13875.0|\n",
      "|        28|        2270.0|  product_28|         5|    11350.0|\n",
      "+----------+--------------+------------+----------+-----------+\n",
      "only showing top 10 rows\n",
      "\n",
      "Row(product_name='product_19', total_price=47264.0)\n"
     ]
    }
   ],
   "source": [
    "# https://kb.databricks.com/data/join-two-dataframes-duplicated-columns.html\n",
    "# https://stackoverflow.com/questions/35258506/how-to-avoid-duplicate-columns-after-join\n",
    "join_expression = [\"product_id\"]\n",
    "\n",
    "merged_df = sales_df_total.join(products_df, join_expression,\"left\").withColumn(\"total_price\", col(\"total_quantity\") * col(\"unit_price\"))\n",
    "merged_df.show(10)\n",
    "\n",
    "print(merged_df.orderBy(col(\"total_price\").desc()).select(\"product_name\", \"total_price\").collect()[0])"
   ]
  },
  {
   "cell_type": "markdown",
   "id": "8f37e83b-a341-45f0-b6db-8ad5dc870a43",
   "metadata": {},
   "source": [
    "**Exercise 1.2**\n",
    "\n",
    "Find the best preforming product and the worst performing product in terms of the total price of the sold items for each date."
   ]
  },
  {
   "cell_type": "code",
   "execution_count": 8,
   "id": "00ec39db-7d3b-440a-b09b-c5bd857b114c",
   "metadata": {},
   "outputs": [
    {
     "name": "stdout",
     "output_type": "stream",
     "text": [
      "root\n",
      " |-- product_id: string (nullable = true)\n",
      " |-- sdate: date (nullable = true)\n",
      " |-- total_quantity: double (nullable = true)\n",
      " |-- product_name: string (nullable = true)\n",
      " |-- unit_price: string (nullable = true)\n",
      " |-- total_price: double (nullable = true)\n",
      "\n",
      "+----------+----------+--------------+------------+----------+-----------+\n",
      "|product_id|     sdate|total_quantity|product_name|unit_price|total_price|\n",
      "+----------+----------+--------------+------------+----------+-----------+\n",
      "|         5|2021-08-05|          95.0|   product_5|        10|      950.0|\n",
      "|         2|2021-08-05|         242.0|   product_2|         6|     1452.0|\n",
      "|        33|2021-08-04|         419.0|  product_33|         9|     3771.0|\n",
      "|        10|2021-08-11|         106.0|  product_10|        10|     1060.0|\n",
      "+----------+----------+--------------+------------+----------+-----------+\n",
      "only showing top 4 rows\n",
      "\n",
      "+----------+----------+--------------+------------+----------+-----------+---------+--------+\n",
      "|product_id|     sdate|total_quantity|product_name|unit_price|total_price|rank_desc|rank_asc|\n",
      "+----------+----------+--------------+------------+----------+-----------+---------+--------+\n",
      "|        42|2021-08-01|          62.0|  product_42|         3|      186.0|       47|       1|\n",
      "|        19|2021-08-01|         437.0|  product_19|        14|     6118.0|        1|      47|\n",
      "|        24|2021-08-03|           7.0|  product_24|        10|       70.0|       48|       1|\n",
      "|        15|2021-08-03|         393.0|  product_15|        15|     5895.0|        1|      48|\n",
      "|        36|2021-08-02|          22.0|  product_36|         3|       66.0|       48|       1|\n",
      "|        37|2021-08-02|         585.0|  product_37|        14|     8190.0|        1|      48|\n",
      "|        48|2021-08-11|         144.0|  product_48|         1|      144.0|       48|       1|\n",
      "|        15|2021-08-11|         499.0|  product_15|        15|     7485.0|        1|      48|\n",
      "|        36|2021-08-04|          29.0|  product_36|         3|       87.0|       49|       1|\n",
      "|        19|2021-08-04|         468.0|  product_19|        14|     6552.0|        1|      49|\n",
      "|        43|2021-08-10|         196.0|  product_43|         1|      196.0|       49|       1|\n",
      "|        19|2021-08-10|         508.0|  product_19|        14|     7112.0|        1|      49|\n",
      "|        38|2021-08-08|          74.0|  product_38|         1|       74.0|       48|       1|\n",
      "|         4|2021-08-08|         508.0|   product_4|        12|     6096.0|        1|      48|\n",
      "|        39|2021-08-06|         106.0|  product_39|         2|      212.0|       48|       1|\n",
      "|        19|2021-08-06|         404.0|  product_19|        14|     5656.0|        1|      48|\n",
      "|        42|2021-08-07|          33.0|  product_42|         3|       99.0|       49|       1|\n",
      "|        37|2021-08-07|         361.0|  product_37|        14|     5054.0|        1|      49|\n",
      "|        38|2021-08-05|          87.0|  product_38|         1|       87.0|       46|       1|\n",
      "|        35|2021-08-05|         483.0|  product_35|        14|     6762.0|        1|      46|\n",
      "|        21|2021-08-09|          12.0|  product_21|         7|       84.0|       48|       1|\n",
      "|        45|2021-08-09|         440.0|  product_45|        10|     4400.0|        1|      48|\n",
      "+----------+----------+--------------+------------+----------+-----------+---------+--------+\n",
      "\n"
     ]
    }
   ],
   "source": [
    "sales_df_d = sales_df.select(\"*\", col(\"date\"), to_date(col(\"date\"),\"yyyy-MM-dd\").alias(\"sdate\")).drop(\"date\")\n",
    "\n",
    "# Calcuate the number of pieces sold by each seller for each product on each date\n",
    "sales_df_d_total = sales_df_d.groupby(col(\"product_id\"), col(\"sdate\")).agg(sum(\"quantity\").alias(\"total_quantity\"))\n",
    "\n",
    "join_expression = [\"product_id\"] # as the two data frames use the same column id\n",
    "sales_df_d_total_price = sales_df_d_total.join(products_df, join_expression,\"left\").withColumn(\"total_price\", col(\"total_quantity\") * col(\"unit_price\"))\n",
    "\n",
    "# Rank the product in terms of the total price, per each date. Then, select the best and worst product using ranks\n",
    "window_desc = Window.partitionBy(col(\"sdate\")).orderBy(col(\"total_price\").desc())\n",
    "window_asc = Window.partitionBy(col(\"sdate\")).orderBy(col(\"total_price\").asc())\n",
    "\n",
    "sales_df_d_total_price.printSchema()\n",
    "sales_df_d_total_price.show(4)\n",
    "\n",
    "sales_df_d_total_windowed = sales_df_d_total_price.withColumn(\"rank_desc\", dense_rank().over(window_desc)).withColumn(\"rank_asc\", dense_rank().over(window_asc))\n",
    "\n",
    "# Get the best and worst performing products\n",
    "sales_df_d_total_windowed.where((col(\"rank_desc\") == 1) | (col(\"rank_asc\") == 1) ).select(\"*\").show(100)"
   ]
  },
  {
   "cell_type": "markdown",
   "id": "9f3ea8be-52f8-4725-8698-eb5e9d809922",
   "metadata": {},
   "source": [
    "### Exercise 2"
   ]
  },
  {
   "cell_type": "code",
   "execution_count": 9,
   "id": "21423e72-96fb-4fd7-9ff2-90f01d14fb50",
   "metadata": {},
   "outputs": [],
   "source": [
    "# Setup hadoop fs configuration for schema gs://\n",
    "conf = spark.sparkContext._jsc.hadoopConfiguration()\n",
    "conf.set(\"fs.gs.impl\", \"com.google.cloud.hadoop.fs.gcs.GoogleHadoopFileSystem\")\n",
    "conf.set(\"fs.AbstractFileSystem.gs.impl\", \"com.google.cloud.hadoop.fs.gcs.GoogleHadoopFS\")"
   ]
  },
  {
   "cell_type": "code",
   "execution_count": 10,
   "id": "680fae70-d696-4fc5-8685-21af3186a787",
   "metadata": {},
   "outputs": [
    {
     "name": "stdout",
     "output_type": "stream",
     "text": [
      "root\n",
      " |-- id: string (nullable = true)\n",
      " |-- name: string (nullable = true)\n",
      " |-- address: string (nullable = true)\n",
      " |-- city: string (nullable = true)\n",
      " |-- phone: string (nullable = true)\n",
      " |-- type: string (nullable = true)\n",
      "\n",
      "+---+--------------------+--------------------+-----------+------------+-----------+\n",
      "| id|                name|             address|       city|       phone|       type|\n",
      "+---+--------------------+--------------------+-----------+------------+-----------+\n",
      "|  1|arnie morton's of...|435 s. la cienega...|los angeles|310/246-1501|   american|\n",
      "|  2|arnie morton's of...|435 s. la cienega...|los angeles|310-246-1501|steakhouses|\n",
      "|  3|  art's delicatessen| 12224 ventura blvd.|studio city|818/762-1221|   american|\n",
      "|  4|          art's deli| 12224 ventura blvd.|studio city|818-762-1221|      delis|\n",
      "|  5|       hotel bel-air|701 stone canyon rd.|    bel air|310/472-1211|californian|\n",
      "+---+--------------------+--------------------+-----------+------------+-----------+\n",
      "only showing top 5 rows\n",
      "\n"
     ]
    }
   ],
   "source": [
    "#  Google Storage File Path\n",
    "gsc_file_path = \"gs://delabs-lab6-input/restaurants_geo.csv\"\n",
    "\n",
    "# Create data frame\n",
    "restaurants_geo_df = spark.read.format(\"csv\").option(\"header\", \"true\").option(\"delimiter\", \";\").load(gsc_file_path)\n",
    "restaurants_geo_df.printSchema()\n",
    "restaurants_geo_df.show(5)"
   ]
  },
  {
   "cell_type": "code",
   "execution_count": 11,
   "id": "4d6b06cb-58c6-4bb1-8d4b-0e6b017aec7e",
   "metadata": {},
   "outputs": [
    {
     "name": "stdout",
     "output_type": "stream",
     "text": [
      "root\n",
      " |-- rid: long (nullable = true)\n",
      " |-- avg_price: double (nullable = true)\n",
      " |-- rating: double (nullable = true)\n",
      " |-- contact: string (nullable = true)\n",
      "\n",
      "+---+---------+------+-------------------+\n",
      "|rid|avg_price|rating|            contact|\n",
      "+---+---------+------+-------------------+\n",
      "|167|    37.64|   2.0|sdarragh4m@yale.edu|\n",
      "|602|    54.41|   2.0|   abatistegp@51.la|\n",
      "|289|    52.18|  2.25|  cceely80@hibu.com|\n",
      "|338|    98.83|  2.25|mmcerlaine9d@w3.org|\n",
      "+---+---------+------+-------------------+\n",
      "only showing top 4 rows\n",
      "\n"
     ]
    }
   ],
   "source": [
    "restaurants_df = spark.read.format(\"bigquery\").load(\"delabs.lab6.restaurants\")\n",
    "restaurants_df.printSchema()\n",
    "restaurants_df.show(4)"
   ]
  },
  {
   "cell_type": "markdown",
   "id": "30d1985f-90f4-4525-b975-5d9468ceaa96",
   "metadata": {},
   "source": [
    "**Exercise 2.1**\n",
    "\n",
    "Give me the contact details of the cheapest restaurant and the most expensive restaurant in each city of USA."
   ]
  },
  {
   "cell_type": "code",
   "execution_count": 12,
   "id": "5f83ae77-7bcf-4882-b5cc-659687543da8",
   "metadata": {},
   "outputs": [],
   "source": [
    "from pyspark.sql.functions import *\n",
    "from pyspark.sql import Row, Window"
   ]
  },
  {
   "cell_type": "code",
   "execution_count": 13,
   "id": "17449ac8-17d3-4110-b32e-f81401431968",
   "metadata": {},
   "outputs": [],
   "source": [
    "join_expression = restaurants_geo_df[\"id\"] == restaurants_df[\"rid\"]"
   ]
  },
  {
   "cell_type": "code",
   "execution_count": 14,
   "id": "13677eee-dcd2-46be-8446-6a8f6ba86e8c",
   "metadata": {},
   "outputs": [
    {
     "name": "stdout",
     "output_type": "stream",
     "text": [
      "+---+--------------------+--------------------+-----------+------------+-----------+---------+------+--------------------+\n",
      "| id|                name|             address|       city|       phone|       type|avg_price|rating|             contact|\n",
      "+---+--------------------+--------------------+-----------+------------+-----------+---------+------+--------------------+\n",
      "|  1|arnie morton's of...|435 s. la cienega...|los angeles|310/246-1501|   american|    58.98|  2.49|lbuckeridge0@indi...|\n",
      "|  1|arnie morton's of...|435 s. la cienega...|los angeles|310/246-1501|   american|    58.98|  2.49|lbuckeridge0@indi...|\n",
      "|  1|arnie morton's of...|435 s. la cienega...|los angeles|310/246-1501|   american|    58.98|  2.49|lbuckeridge0@indi...|\n",
      "|  1|arnie morton's of...|435 s. la cienega...|los angeles|310/246-1501|   american|    58.98|  2.49|lbuckeridge0@indi...|\n",
      "|  2|arnie morton's of...|435 s. la cienega...|los angeles|310-246-1501|steakhouses|    60.32|  3.69|wstrickland1@goog...|\n",
      "|  2|arnie morton's of...|435 s. la cienega...|los angeles|310-246-1501|steakhouses|    60.32|  3.69|wstrickland1@goog...|\n",
      "|  2|arnie morton's of...|435 s. la cienega...|los angeles|310-246-1501|steakhouses|    60.32|  3.69|wstrickland1@goog...|\n",
      "|  2|arnie morton's of...|435 s. la cienega...|los angeles|310-246-1501|steakhouses|    60.32|  3.69|wstrickland1@goog...|\n",
      "|  3|  art's delicatessen| 12224 ventura blvd.|studio city|818/762-1221|   american|    61.94|  2.57|smiroy2@delicious...|\n",
      "|  3|  art's delicatessen| 12224 ventura blvd.|studio city|818/762-1221|   american|    61.94|  2.57|smiroy2@delicious...|\n",
      "+---+--------------------+--------------------+-----------+------------+-----------+---------+------+--------------------+\n",
      "only showing top 10 rows\n",
      "\n"
     ]
    }
   ],
   "source": [
    "# default join is the inner or left join\n",
    "restaurants_merged = restaurants_geo_df.join(restaurants_df, join_expression,\"left\").drop(\"rid\")\n",
    "restaurants_merged.show(10)"
   ]
  },
  {
   "cell_type": "code",
   "execution_count": 15,
   "id": "5f1aac83-be8d-4fdd-ae2d-b20f18449652",
   "metadata": {},
   "outputs": [],
   "source": [
    "# Rank the resturants in terms of the avg price, per each city. Then, select the best and worst product using ranks\n",
    "window_desc = Window.partitionBy(col(\"city\")).orderBy(col(\"avg_price\").desc())\n",
    "window_asc = Window.partitionBy(col(\"city\")).orderBy(col(\"avg_price\").asc())"
   ]
  },
  {
   "cell_type": "code",
   "execution_count": 16,
   "id": "5b9aaffc-4e8b-4b3d-907d-e9c9c28ef624",
   "metadata": {},
   "outputs": [],
   "source": [
    "restaurants_merged_windowed = restaurants_merged.withColumn(\"rank_desc\", dense_rank().over(window_desc)).withColumn(\"rank_asc\", dense_rank().over(window_asc))"
   ]
  },
  {
   "cell_type": "code",
   "execution_count": 17,
   "id": "6fd930e2-1e15-4175-919b-045e207b3baa",
   "metadata": {},
   "outputs": [
    {
     "name": "stdout",
     "output_type": "stream",
     "text": [
      "+---+-------------------+-------------------+-----------+------------+-------------+---------+------+--------------------+---------+--------+\n",
      "| id|               name|            address|       city|       phone|         type|avg_price|rating|             contact|rank_desc|rank_asc|\n",
      "+---+-------------------+-------------------+-----------+------------+-------------+---------+------+--------------------+---------+--------+\n",
      "|673|      john o'groats|10516 w. pico blvd.|    west la|310-204-0692| coffee shops|    56.01|  3.33|jdumberellio@post...|        4|       1|\n",
      "|673|      john o'groats|10516 w. pico blvd.|    west la|310-204-0692| coffee shops|    56.01|  3.33|jdumberellio@post...|        4|       1|\n",
      "|673|      john o'groats|10516 w. pico blvd.|    west la|310-204-0692| coffee shops|    56.01|  3.33|jdumberellio@post...|        4|       1|\n",
      "|673|      john o'groats|10516 w. pico blvd.|    west la|310-204-0692| coffee shops|    56.01|  3.33|jdumberellio@post...|        4|       1|\n",
      "|665|feast from the east|1949 westwood blvd.|    west la|310-475-0400|      chinese|    64.53|  3.09|     jloreitig@de.vu|        1|       4|\n",
      "|665|feast from the east|1949 westwood blvd.|    west la|310-475-0400|      chinese|    64.53|  3.09|     jloreitig@de.vu|        1|       4|\n",
      "|665|feast from the east|1949 westwood blvd.|    west la|310-475-0400|      chinese|    64.53|  3.09|     jloreitig@de.vu|        1|       4|\n",
      "|665|feast from the east|1949 westwood blvd.|    west la|310-475-0400|      chinese|    64.53|  3.09|     jloreitig@de.vu|        1|       4|\n",
      "| 38|       pinot bistro|12969 ventura blvd.|studio city|818-990-0500|french bistro|    20.86|  3.49|ccortez11@themefo...|        5|       1|\n",
      "| 38|       pinot bistro|12969 ventura blvd.|studio city|818-990-0500|french bistro|    20.86|  3.49|ccortez11@themefo...|        5|       1|\n",
      "+---+-------------------+-------------------+-----------+------------+-------------+---------+------+--------------------+---------+--------+\n",
      "only showing top 10 rows\n",
      "\n",
      "+-----------+--------------+---------+-------------------+--------------------+------------+\n",
      "|       city|price_category|avg_price|               name|             contact|       phone|\n",
      "+-----------+--------------+---------+-------------------+--------------------+------------+\n",
      "|    west la|      Cheapest|    56.01|      john o'groats|jdumberellio@post...|310-204-0692|\n",
      "|    west la|      Cheapest|    56.01|      john o'groats|jdumberellio@post...|310-204-0692|\n",
      "|    west la|      Cheapest|    56.01|      john o'groats|jdumberellio@post...|310-204-0692|\n",
      "|    west la|      Cheapest|    56.01|      john o'groats|jdumberellio@post...|310-204-0692|\n",
      "|    west la|Most Expensive|    64.53|feast from the east|     jloreitig@de.vu|310-475-0400|\n",
      "|    west la|Most Expensive|    64.53|feast from the east|     jloreitig@de.vu|310-475-0400|\n",
      "|    west la|Most Expensive|    64.53|feast from the east|     jloreitig@de.vu|310-475-0400|\n",
      "|    west la|Most Expensive|    64.53|feast from the east|     jloreitig@de.vu|310-475-0400|\n",
      "|studio city|      Cheapest|    20.86|       pinot bistro|ccortez11@themefo...|818-990-0500|\n",
      "|studio city|      Cheapest|    20.86|       pinot bistro|ccortez11@themefo...|818-990-0500|\n",
      "+-----------+--------------+---------+-------------------+--------------------+------------+\n",
      "only showing top 10 rows\n",
      "\n"
     ]
    }
   ],
   "source": [
    "# Get the best and worst performing products\n",
    "cheap_expensive_city_table1 = restaurants_merged_windowed.where((col(\"rank_desc\") == 1) | (col(\"rank_asc\") == 1) ).select(\"*\")\n",
    "cheap_expensive_city_table1.show(10)\n",
    "\n",
    "cheap_expensive_city_table2 = cheap_expensive_city_table1.withColumn(\"price_category\", when(col(\"rank_desc\") == 1, \"Most Expensive\").otherwise(\"Cheapest\")).select(\n",
    "    \"city\",\n",
    "    \"price_category\",\n",
    "    \"avg_price\",\n",
    "    \"name\",\n",
    "    \"contact\",\n",
    "    \"phone\",\n",
    ")\n",
    "cheap_expensive_city_table2.show(10)"
   ]
  },
  {
   "cell_type": "code",
   "execution_count": 18,
   "id": "8728eb3c-521c-497a-9c16-b49ff118aa5d",
   "metadata": {},
   "outputs": [],
   "source": [
    "# Use the Cloud Storage bucket for temporary BigQuery export data used by the connector.\n",
    "bucket = \"delabs-lab6-temp\"\n",
    "spark.conf.set(\"temporaryGcsBucket\", bucket)\n",
    "\n",
    "# Saving the data to BigQuery\n",
    "cheap_expensive_city_table2.write.format(\"bigquery\").option(\"table\", \"delabs.lab6.resturants_selection\").save()"
   ]
  },
  {
   "cell_type": "code",
   "execution_count": 19,
   "id": "aa621131-26cb-48a8-8f6b-6e01934395ae",
   "metadata": {},
   "outputs": [],
   "source": [
    "# Stop the spark context\n",
    "spark.stop()"
   ]
  }
 ],
 "metadata": {
  "kernelspec": {
   "display_name": "Python 3",
   "language": "python",
   "name": "python3"
  },
  "language_info": {
   "codemirror_mode": {
    "name": "ipython",
    "version": 3
   },
   "file_extension": ".py",
   "mimetype": "text/x-python",
   "name": "python",
   "nbconvert_exporter": "python",
   "pygments_lexer": "ipython3",
   "version": "3.9.4"
  }
 },
 "nbformat": 4,
 "nbformat_minor": 5
}
