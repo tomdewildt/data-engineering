{
 "cells": [
  {
   "cell_type": "code",
   "execution_count": 1,
   "id": "fecdfd82-d546-4798-826b-e9c3eb26e783",
   "metadata": {},
   "outputs": [],
   "source": [
    "from pyspark.sql import SparkSession\n",
    "from pyspark import SparkConf"
   ]
  },
  {
   "cell_type": "code",
   "execution_count": 2,
   "id": "256a06e8-5c19-493f-b597-b21467b7d585",
   "metadata": {},
   "outputs": [
    {
     "data": {
      "text/plain": [
       "<pyspark.conf.SparkConf at 0x7f885ba56c70>"
      ]
     },
     "execution_count": 2,
     "metadata": {},
     "output_type": "execute_result"
    }
   ],
   "source": [
    "spark_conf = SparkConf()\n",
    "spark_conf.setMaster(\"spark://master:7077\")\n",
    "spark_conf.setAppName(\"GCSExample\")\n",
    "spark_conf.set(\"spark.driver.memory\", \"2g\")\n",
    "spark_conf.set(\"spark.executor.cores\", \"1\")\n",
    "spark_conf.set(\"spark.driver.cores\", \"1\")"
   ]
  },
  {
   "cell_type": "code",
   "execution_count": 3,
   "id": "ffa740ed-49c7-4cb3-9e06-02275a9fdffb",
   "metadata": {},
   "outputs": [],
   "source": [
    "# create the spark session, which is the entry point to Spark SQL engine.\n",
    "spark = SparkSession.builder.config(conf=spark_conf).getOrCreate()"
   ]
  },
  {
   "cell_type": "code",
   "execution_count": 4,
   "id": "d2b20eb1-f6ec-46c4-9dd9-4884c7d935ca",
   "metadata": {},
   "outputs": [],
   "source": [
    "# Setup hadoop fs configuration for schema gs://\n",
    "conf = spark.sparkContext._jsc.hadoopConfiguration()\n",
    "conf.set(\"fs.gs.impl\", \"com.google.cloud.hadoop.fs.gcs.GoogleHadoopFileSystem\")\n",
    "conf.set(\"fs.AbstractFileSystem.gs.impl\", \"com.google.cloud.hadoop.fs.gcs.GoogleHadoopFS\")"
   ]
  },
  {
   "cell_type": "code",
   "execution_count": 5,
   "id": "d0384e43-ea85-495a-8078-b0f6aceccd41",
   "metadata": {},
   "outputs": [
    {
     "name": "stdout",
     "output_type": "stream",
     "text": [
      "root\n",
      " |-- product_id: string (nullable = true)\n",
      " |-- time_id: string (nullable = true)\n",
      " |-- customer_id: string (nullable = true)\n",
      " |-- promotion_id: string (nullable = true)\n",
      " |-- store_id: string (nullable = true)\n",
      " |-- store_sales: string (nullable = true)\n",
      " |-- store_cost: string (nullable = true)\n",
      " |-- unit_sales: string (nullable = true)\n",
      "\n"
     ]
    }
   ],
   "source": [
    "#  Google Storage File Path\n",
    "gsc_file_path = \"gs://delabs-lab6-input/sales.csv\"\n",
    "\n",
    "# Create data frame\n",
    "df = spark.read.format(\"csv\").option(\"header\", \"true\").load(gsc_file_path)\n",
    "df.printSchema()"
   ]
  },
  {
   "cell_type": "code",
   "execution_count": 6,
   "id": "adf835eb-c6a2-499a-afeb-60701fdcb885",
   "metadata": {},
   "outputs": [
    {
     "name": "stdout",
     "output_type": "stream",
     "text": [
      "+----------+\n",
      "|unit_sales|\n",
      "+----------+\n",
      "|         2|\n",
      "|         3|\n",
      "|         1|\n",
      "|         3|\n",
      "|         2|\n",
      "|         3|\n",
      "|         2|\n",
      "|         2|\n",
      "|         2|\n",
      "|         1|\n",
      "|         2|\n",
      "|         2|\n",
      "|         2|\n",
      "|         1|\n",
      "|         1|\n",
      "|         2|\n",
      "|         2|\n",
      "|         1|\n",
      "|         3|\n",
      "|         1|\n",
      "+----------+\n",
      "only showing top 20 rows\n",
      "\n",
      "+----------+-------+-----------+------------+--------+-----------+----------+----------+\n",
      "|product_id|time_id|customer_id|promotion_id|store_id|store_sales|store_cost|unit_sales|\n",
      "+----------+-------+-----------+------------+--------+-----------+----------+----------+\n",
      "|       337|    371|       6280|        null|       2|     1.5000|    0.5100|         2|\n",
      "|      1512|    371|       6280|        null|       2|     1.6200|    0.6318|         3|\n",
      "|       963|    371|       4018|        null|       2|     2.4000|    0.7200|         1|\n",
      "|       181|    371|       4018|        null|       2|     2.7900|    1.0323|         3|\n",
      "|      1383|    371|       4018|        null|       2|     5.1800|    2.1756|         2|\n",
      "|      1306|    371|       4018|        null|       2|     7.4100|    2.7417|         3|\n",
      "|      1196|    371|       1418|        null|       2|     5.8400|    1.9856|         2|\n",
      "|       360|    371|       1418|        null|       2|     2.6200|    1.0480|         2|\n",
      "|      1242|    371|       1418|        null|       2|     3.9600|    1.7028|         2|\n",
      "|       154|    371|       1418|        null|       2|     1.9600|    0.7252|         1|\n",
      "|       483|    371|       4382|        null|       2|     3.8800|    1.7072|         2|\n",
      "|        77|    371|       1293|        null|       2|     5.6000|    2.8000|         2|\n",
      "|       533|    371|       1293|        null|       2|     4.8400|    2.3232|         2|\n",
      "|       310|    371|       1293|        null|       2|     0.7600|    0.3420|         1|\n",
      "|      1392|    371|       1293|        null|       2|     0.8300|    0.3735|         1|\n",
      "|      1303|    394|       9305|        null|       2|     1.3600|    0.4352|         2|\n",
      "|       748|    394|       9305|        null|       2|     4.4000|    1.9360|         2|\n",
      "|      1270|    394|       9305|        null|       2|     2.6900|    1.0491|         1|\n",
      "|       311|    394|       5649|        null|       2|     6.4500|    2.3865|         3|\n",
      "|       194|    394|       5649|        null|       2|     3.3600|    1.5120|         1|\n",
      "+----------+-------+-----------+------------+--------+-----------+----------+----------+\n",
      "only showing top 20 rows\n",
      "\n"
     ]
    }
   ],
   "source": [
    "new_df = df.select(\"unit_sales\")\n",
    "\n",
    "new_df.show()\n",
    "df.show()"
   ]
  },
  {
   "cell_type": "markdown",
   "id": "5f69c42a-7b8c-4e35-9f3d-d40d8de19214",
   "metadata": {},
   "source": [
    "how many distinct products have been sold in each store? \n"
   ]
  },
  {
   "cell_type": "code",
   "execution_count": 7,
   "id": "fcc8360b-27dc-41b8-95ac-04de84b4f3fa",
   "metadata": {},
   "outputs": [
    {
     "name": "stdout",
     "output_type": "stream",
     "text": [
      "+----------+--------+\n",
      "|product_id|store_id|\n",
      "+----------+--------+\n",
      "|       955|       2|\n",
      "|      1119|       2|\n",
      "+----------+--------+\n",
      "only showing top 2 rows\n",
      "\n"
     ]
    }
   ],
   "source": [
    "dfw = df.select(\"product_id\",\"store_id\").distinct()\n",
    "dfw.show(2)"
   ]
  },
  {
   "cell_type": "code",
   "execution_count": 8,
   "id": "334382e9-d801-4709-a71e-a8de85ce5dae",
   "metadata": {},
   "outputs": [],
   "source": [
    "dfw.write.format(\"csv\").save(\"gs://delabs-lab6-output/lab61.csv\")"
   ]
  },
  {
   "cell_type": "code",
   "execution_count": 9,
   "id": "aa621131-26cb-48a8-8f6b-6e01934395ae",
   "metadata": {},
   "outputs": [],
   "source": [
    "# Stop the spark context\n",
    "spark.stop()"
   ]
  }
 ],
 "metadata": {
  "kernelspec": {
   "display_name": "Python 3",
   "language": "python",
   "name": "python3"
  },
  "language_info": {
   "codemirror_mode": {
    "name": "ipython",
    "version": 3
   },
   "file_extension": ".py",
   "mimetype": "text/x-python",
   "name": "python",
   "nbconvert_exporter": "python",
   "pygments_lexer": "ipython3",
   "version": "3.9.4"
  }
 },
 "nbformat": 4,
 "nbformat_minor": 5
}
