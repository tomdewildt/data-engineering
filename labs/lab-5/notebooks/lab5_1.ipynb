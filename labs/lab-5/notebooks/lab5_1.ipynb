{
 "cells": [
  {
   "cell_type": "code",
   "execution_count": 1,
   "id": "2fcd9542-b88a-4907-b535-a22b9adaf66e",
   "metadata": {},
   "outputs": [],
   "source": [
    "from pyspark.sql import SparkSession"
   ]
  },
  {
   "cell_type": "code",
   "execution_count": 2,
   "id": "256a06e8-5c19-493f-b597-b21467b7d585",
   "metadata": {},
   "outputs": [],
   "source": [
    "spark = SparkSession.builder.appName(\"MyFirstSparkApp\").master(\"spark://master:7077\").getOrCreate() "
   ]
  },
  {
   "cell_type": "code",
   "execution_count": 3,
   "id": "aecb4fc1-d730-452d-907a-f933ea78b402",
   "metadata": {},
   "outputs": [],
   "source": [
    "# Create a dataframe by providing raw values and columns \n",
    "df = spark.createDataFrame(\n",
    "    [\n",
    "        (\"Tom\", 33, \"footballer\"),  # Create your data here, be consistent in the types.\n",
    "        (\"Jim\", 45, \"teacher\"),\n",
    "        (\"Alice\", 25, \"teacher\"),\n",
    "    ],\n",
    "    [\"name\", \"age\", \"occupation\"],  # Add your column names here\n",
    ")"
   ]
  },
  {
   "cell_type": "code",
   "execution_count": 4,
   "id": "44f34626-b5c1-4e6c-8441-4e3308a55882",
   "metadata": {},
   "outputs": [
    {
     "name": "stdout",
     "output_type": "stream",
     "text": [
      "root\n",
      " |-- name: string (nullable = true)\n",
      " |-- age: long (nullable = true)\n",
      " |-- occupation: string (nullable = true)\n",
      "\n"
     ]
    }
   ],
   "source": [
    "# Check the schema of the table\n",
    "df.printSchema()"
   ]
  },
  {
   "cell_type": "code",
   "execution_count": 5,
   "id": "342da470-bbe8-428f-99be-b23e065088d9",
   "metadata": {},
   "outputs": [],
   "source": [
    "# Apply filtering transformation\n",
    "df = df.where(df.occupation == \"teacher\")"
   ]
  },
  {
   "cell_type": "code",
   "execution_count": 6,
   "id": "6bf138fd-ddd2-428f-a7ed-a7a148119b21",
   "metadata": {},
   "outputs": [
    {
     "name": "stdout",
     "output_type": "stream",
     "text": [
      "+-----+---+----------+\n",
      "| name|age|occupation|\n",
      "+-----+---+----------+\n",
      "|  Jim| 45|   teacher|\n",
      "|Alice| 25|   teacher|\n",
      "+-----+---+----------+\n",
      "\n"
     ]
    },
    {
     "data": {
      "text/plain": [
       "2"
      ]
     },
     "execution_count": 6,
     "metadata": {},
     "output_type": "execute_result"
    }
   ],
   "source": [
    "# Print the result\n",
    "df.show()\n",
    "df.count()"
   ]
  },
  {
   "cell_type": "code",
   "execution_count": 7,
   "id": "4030a338-c77d-4fff-b6c9-bc33b185a3bf",
   "metadata": {},
   "outputs": [],
   "source": [
    "# Stop the spark context\n",
    "spark.stop()"
   ]
  }
 ],
 "metadata": {
  "kernelspec": {
   "display_name": "Python 3",
   "language": "python",
   "name": "python3"
  },
  "language_info": {
   "codemirror_mode": {
    "name": "ipython",
    "version": 3
   },
   "file_extension": ".py",
   "mimetype": "text/x-python",
   "name": "python",
   "nbconvert_exporter": "python",
   "pygments_lexer": "ipython3",
   "version": "3.9.4"
  }
 },
 "nbformat": 4,
 "nbformat_minor": 5
}
