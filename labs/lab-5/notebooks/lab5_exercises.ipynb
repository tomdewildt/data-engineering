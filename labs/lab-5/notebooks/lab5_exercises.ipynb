{
 "cells": [
  {
   "cell_type": "code",
   "execution_count": 1,
   "id": "2fcd9542-b88a-4907-b535-a22b9adaf66e",
   "metadata": {},
   "outputs": [],
   "source": [
    "from pyspark.sql import SparkSession"
   ]
  },
  {
   "cell_type": "code",
   "execution_count": 2,
   "id": "256a06e8-5c19-493f-b597-b21467b7d585",
   "metadata": {},
   "outputs": [],
   "source": [
    "spark = SparkSession.builder.appName(\"SparkExercisesApp\").master(\"spark://master:7077\").getOrCreate()"
   ]
  },
  {
   "cell_type": "code",
   "execution_count": 3,
   "id": "09301412-1a56-4b53-9762-2cc037423052",
   "metadata": {},
   "outputs": [],
   "source": [
    "sc = spark.sparkContext\n",
    "sc.setLogLevel(\"FATAL\")"
   ]
  },
  {
   "cell_type": "markdown",
   "id": "5bd020eb-9f79-4c32-bd0c-efe0c01e78c7",
   "metadata": {},
   "source": [
    "### Exercise 1\n",
    "\n",
    "How many distinct products have been sold in each store? "
   ]
  },
  {
   "cell_type": "code",
   "execution_count": 4,
   "id": "8f256e53-caf8-48bb-b4de-08795bfbd6a1",
   "metadata": {},
   "outputs": [
    {
     "name": "stdout",
     "output_type": "stream",
     "text": [
      "root\n",
      " |-- product_id: string (nullable = true)\n",
      " |-- time_id: string (nullable = true)\n",
      " |-- customer_id: string (nullable = true)\n",
      " |-- promotion_id: string (nullable = true)\n",
      " |-- store_id: string (nullable = true)\n",
      " |-- store_sales: string (nullable = true)\n",
      " |-- store_cost: string (nullable = true)\n",
      " |-- unit_sales: string (nullable = true)\n",
      "\n"
     ]
    }
   ],
   "source": [
    "df = spark.read.format(\"csv\").option(\"header\", \"true\").load(\"../data/sales.csv\")\n",
    "df.printSchema()"
   ]
  },
  {
   "cell_type": "code",
   "execution_count": 5,
   "id": "c5b21610-28f0-4094-b6a7-b3ec5f7af4af",
   "metadata": {},
   "outputs": [
    {
     "name": "stdout",
     "output_type": "stream",
     "text": [
      "+--------+----------+\n",
      "|store_id|product_id|\n",
      "+--------+----------+\n",
      "|       2|        22|\n",
      "|       2|       138|\n",
      "|       2|      1245|\n",
      "|       2|       756|\n",
      "|       3|       502|\n",
      "|       3|       310|\n",
      "|       3|      1009|\n",
      "|       3|       315|\n",
      "|       3|        42|\n",
      "|       3|      1486|\n",
      "|       3|        49|\n",
      "|       3|       587|\n",
      "|       3|       539|\n",
      "|       6|      1238|\n",
      "|       6|      1069|\n",
      "|       6|      1401|\n",
      "|       6|       152|\n",
      "|       6|       162|\n",
      "|       7|       273|\n",
      "|       7|       752|\n",
      "+--------+----------+\n",
      "only showing top 20 rows\n",
      "\n"
     ]
    }
   ],
   "source": [
    "df.select(\"store_id\", \"product_id\").distinct().show()"
   ]
  },
  {
   "cell_type": "markdown",
   "id": "af7bdc87-5de1-4df6-8013-6f9a6ce7a383",
   "metadata": {},
   "source": [
    "### Exercise 2"
   ]
  },
  {
   "cell_type": "code",
   "execution_count": 6,
   "id": "ccc94ee4-225f-4b87-bc0a-827f77d8aecd",
   "metadata": {},
   "outputs": [
    {
     "name": "stdout",
     "output_type": "stream",
     "text": [
      "root\n",
      " |-- InvoiceNo: string (nullable = true)\n",
      " |-- StockCode: string (nullable = true)\n",
      " |-- Description: string (nullable = true)\n",
      " |-- Quantity: string (nullable = true)\n",
      " |-- InvoiceDate: string (nullable = true)\n",
      " |-- UnitPrice: string (nullable = true)\n",
      " |-- CustomerID: string (nullable = true)\n",
      " |-- Country: string (nullable = true)\n",
      "\n"
     ]
    }
   ],
   "source": [
    "df = spark.read.format(\"csv\").option(\"header\", \"true\").load(\"../data/online-retail-dataset.csv\")\n",
    "df.printSchema()"
   ]
  },
  {
   "cell_type": "markdown",
   "id": "bb96d194-cc50-44f2-bbed-7151d1f5eab9",
   "metadata": {},
   "source": [
    "**Exercise 2.1**\n",
    "\n",
    "What is the average quantity bought by the customer 14769?"
   ]
  },
  {
   "cell_type": "code",
   "execution_count": 7,
   "id": "3e487c52-3e2c-4dad-bcf9-5d63a2537699",
   "metadata": {},
   "outputs": [],
   "source": [
    "from pyspark.sql.functions import col, avg"
   ]
  },
  {
   "cell_type": "code",
   "execution_count": 8,
   "id": "747360ee-758f-4b59-8722-47790ed6fe65",
   "metadata": {},
   "outputs": [
    {
     "data": {
      "text/plain": [
       "6.769652650822669"
      ]
     },
     "execution_count": 8,
     "metadata": {},
     "output_type": "execute_result"
    }
   ],
   "source": [
    "df.where(df.CustomerID == \"14769\").agg(avg(col(\"Quantity\"))).collect()[0][0]"
   ]
  },
  {
   "cell_type": "markdown",
   "id": "c7a56226-810e-48ad-876a-35cf31d009f7",
   "metadata": {
    "tags": []
   },
   "source": [
    "**Exercise 2.2**\n",
    "\n",
    "What is the most occurring word in the items bought by the customers from France?"
   ]
  },
  {
   "cell_type": "code",
   "execution_count": 9,
   "id": "83adf7df-5a10-4835-bd64-70a096023fc1",
   "metadata": {},
   "outputs": [],
   "source": [
    "from pyspark.sql.functions import explode, split, concat, lit, desc"
   ]
  },
  {
   "cell_type": "code",
   "execution_count": 10,
   "id": "f7062217-7ea1-4ae8-abe1-1d2f625eab32",
   "metadata": {},
   "outputs": [
    {
     "data": {
      "text/plain": [
       "'RED'"
      ]
     },
     "execution_count": 10,
     "metadata": {},
     "output_type": "execute_result"
    }
   ],
   "source": [
    "words = df.where(df.Country == \"France\").select(\"Description\").select(explode(split(col(\"Description\"), \" \")).alias(\"word\"))\n",
    "\n",
    "words_count = words.groupby(words.word).count().orderBy(col(\"count\").desc())\n",
    "\n",
    "words_count.collect()[1][0]"
   ]
  },
  {
   "cell_type": "markdown",
   "id": "1cf86525-2eff-477a-a11e-df64a381d83b",
   "metadata": {},
   "source": [
    "### Exercise 3"
   ]
  },
  {
   "cell_type": "code",
   "execution_count": 11,
   "id": "05f9fb25-02e4-4464-aed3-77836aa5967c",
   "metadata": {},
   "outputs": [],
   "source": [
    "data_rdd = spark.sparkContext.textFile(\"../data/employee_info.csv\")"
   ]
  },
  {
   "cell_type": "markdown",
   "id": "69f9f4d4-cc80-4bfb-8887-2e8a3a3df329",
   "metadata": {},
   "source": [
    "**Exercise 3.1**\n",
    "\n",
    "How many police officers are there at the POLICE department?"
   ]
  },
  {
   "cell_type": "code",
   "execution_count": 12,
   "id": "09f8ea42-8204-4d17-9868-826c637a8a13",
   "metadata": {},
   "outputs": [],
   "source": [
    "def filter_fun(x):\n",
    "    return True if \"POLICE OFFICER\" in x else False"
   ]
  },
  {
   "cell_type": "code",
   "execution_count": 13,
   "id": "ec067b97-b5a2-496a-9295-51cc97b9c934",
   "metadata": {},
   "outputs": [
    {
     "data": {
      "text/plain": [
       "10639"
      ]
     },
     "execution_count": 13,
     "metadata": {},
     "output_type": "execute_result"
    }
   ],
   "source": [
    "data_rdd.filter(filter_fun).count()"
   ]
  },
  {
   "cell_type": "markdown",
   "id": "89275078-897a-426f-92da-ecd0adba44d0",
   "metadata": {},
   "source": [
    "**Exercise 3.2**\n",
    "\n",
    "Who is the lieutenant with the highest salary at the FIRE department?"
   ]
  },
  {
   "cell_type": "code",
   "execution_count": 14,
   "id": "348fedfa-4196-499c-9f79-a4a9b71f6ee0",
   "metadata": {},
   "outputs": [],
   "source": [
    "import re\n",
    "\n",
    "from operator import add"
   ]
  },
  {
   "cell_type": "code",
   "execution_count": 15,
   "id": "493f1286-095e-4f15-9870-36bc7a098716",
   "metadata": {},
   "outputs": [],
   "source": [
    "def filter_fun(x):\n",
    "    return True if \"FIRE\" in x and re.search(r\"\\b,LIEUTENANT,\\b\", x) is not None else False\n",
    "\n",
    "def map_fun(x):\n",
    "    values = x.split(\",\")\n",
    "    \n",
    "    return (float(values[-2]), values[1] + \" \" + values[0])"
   ]
  },
  {
   "cell_type": "code",
   "execution_count": 16,
   "id": "92c4be00-3be1-4e9b-9118-47a8a41d6f0d",
   "metadata": {},
   "outputs": [
    {
     "data": {
      "text/plain": [
       "[(114846.0, 'TIM P EDWARDS')]"
      ]
     },
     "execution_count": 16,
     "metadata": {},
     "output_type": "execute_result"
    }
   ],
   "source": [
    "fire_lieutenant_rdd = data_rdd.filter(filter_fun)\n",
    "\n",
    "fire_lieutenant_rdd.map(map_fun).sortByKey(ascending=False).take(1) "
   ]
  },
  {
   "cell_type": "code",
   "execution_count": 17,
   "id": "c72b702d-7b3a-42a1-8059-628a1f0e6970",
   "metadata": {},
   "outputs": [],
   "source": [
    "# Stop the spark context\n",
    "spark.stop()"
   ]
  }
 ],
 "metadata": {
  "kernelspec": {
   "display_name": "Python 3",
   "language": "python",
   "name": "python3"
  },
  "language_info": {
   "codemirror_mode": {
    "name": "ipython",
    "version": 3
   },
   "file_extension": ".py",
   "mimetype": "text/x-python",
   "name": "python",
   "nbconvert_exporter": "python",
   "pygments_lexer": "ipython3",
   "version": "3.9.4"
  }
 },
 "nbformat": 4,
 "nbformat_minor": 5
}
