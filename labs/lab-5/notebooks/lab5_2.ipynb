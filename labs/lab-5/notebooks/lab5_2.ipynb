{
 "cells": [
  {
   "cell_type": "code",
   "execution_count": 1,
   "id": "22b9636d-e2a0-4718-a809-51f94c02b3d2",
   "metadata": {},
   "outputs": [],
   "source": [
    "from pyspark.sql import SparkSession\n",
    "from pyspark import SparkConf"
   ]
  },
  {
   "cell_type": "code",
   "execution_count": 2,
   "id": "256a06e8-5c19-493f-b597-b21467b7d585",
   "metadata": {},
   "outputs": [
    {
     "data": {
      "text/plain": [
       "<pyspark.conf.SparkConf at 0x7f402e78ad00>"
      ]
     },
     "execution_count": 2,
     "metadata": {},
     "output_type": "execute_result"
    }
   ],
   "source": [
    "sparkConf = SparkConf()\n",
    "sparkConf.setMaster(\"spark://master:7077\")\n",
    "sparkConf.setAppName(\"MyFirstSparkAppV2\")\n",
    "sparkConf.set(\"spark.driver.memory\", \"2g\")\n",
    "sparkConf.set(\"spark.executor.cores\", \"1\")\n",
    "sparkConf.set(\"spark.driver.cores\", \"1\")"
   ]
  },
  {
   "cell_type": "code",
   "execution_count": 3,
   "id": "3278d178-a1c6-43db-96e9-b70bee12503b",
   "metadata": {},
   "outputs": [],
   "source": [
    "# create the spark session, which is the entry point to Spark SQL engine.\n",
    "spark = SparkSession.builder.config(conf=sparkConf).getOrCreate()"
   ]
  },
  {
   "cell_type": "code",
   "execution_count": 4,
   "id": "a42256d0-93ec-4a6c-917a-8254e2bba652",
   "metadata": {},
   "outputs": [],
   "source": [
    "# create a dataframe by providing raw values and columns \n",
    "df = spark.createDataFrame(\n",
    "    [\n",
    "        (\"Tom\", 33, \"footballer\"),  # create your data here, be consistent in the types.\n",
    "        (\"Jim\", 45, \"teacher\"),\n",
    "        (\"Alice\", 25, \"teacher\"),\n",
    "    ],\n",
    "    [\"name\", \"age\", \"occupation\"],  # add your column names here\n",
    ")"
   ]
  },
  {
   "cell_type": "code",
   "execution_count": 5,
   "id": "d0f59d80-ed90-41cf-9e45-c7635ba58189",
   "metadata": {},
   "outputs": [
    {
     "name": "stdout",
     "output_type": "stream",
     "text": [
      "root\n",
      " |-- name: string (nullable = true)\n",
      " |-- age: long (nullable = true)\n",
      " |-- occupation: string (nullable = true)\n",
      "\n"
     ]
    }
   ],
   "source": [
    "# check the schema of the table\n",
    "df.printSchema()"
   ]
  },
  {
   "cell_type": "code",
   "execution_count": 6,
   "id": "9605dbff-19e5-471f-a715-b885ffcb5aba",
   "metadata": {},
   "outputs": [],
   "source": [
    "# apply filtering transformation\n",
    "df = df.where(df.occupation == \"teacher\")"
   ]
  },
  {
   "cell_type": "code",
   "execution_count": 7,
   "id": "079fd607-f22b-4568-be13-0c5eaf4ce79f",
   "metadata": {},
   "outputs": [
    {
     "name": "stdout",
     "output_type": "stream",
     "text": [
      "+-----+---+----------+\n",
      "| name|age|occupation|\n",
      "+-----+---+----------+\n",
      "|  Jim| 45|   teacher|\n",
      "|Alice| 25|   teacher|\n",
      "+-----+---+----------+\n",
      "\n"
     ]
    },
    {
     "data": {
      "text/plain": [
       "2"
      ]
     },
     "execution_count": 7,
     "metadata": {},
     "output_type": "execute_result"
    }
   ],
   "source": [
    "# print the result\n",
    "df.show()\n",
    "df.count()"
   ]
  },
  {
   "cell_type": "code",
   "execution_count": 8,
   "id": "b0377883-540d-4ad7-a4f0-b0cff2bf405e",
   "metadata": {},
   "outputs": [],
   "source": [
    "# Stop the spark context\n",
    "spark.stop()"
   ]
  }
 ],
 "metadata": {
  "kernelspec": {
   "display_name": "Python 3",
   "language": "python",
   "name": "python3"
  },
  "language_info": {
   "codemirror_mode": {
    "name": "ipython",
    "version": 3
   },
   "file_extension": ".py",
   "mimetype": "text/x-python",
   "name": "python",
   "nbconvert_exporter": "python",
   "pygments_lexer": "ipython3",
   "version": "3.9.4"
  }
 },
 "nbformat": 4,
 "nbformat_minor": 5
}
