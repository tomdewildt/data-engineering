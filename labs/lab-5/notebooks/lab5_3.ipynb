{
 "cells": [
  {
   "cell_type": "code",
   "execution_count": 1,
   "id": "5d8856a3-f893-462a-855c-bff1a9028ea4",
   "metadata": {},
   "outputs": [],
   "source": [
    "from pyspark.sql import SparkSession\n",
    "from pyspark import SparkConf"
   ]
  },
  {
   "cell_type": "code",
   "execution_count": 2,
   "id": "256a06e8-5c19-493f-b597-b21467b7d585",
   "metadata": {},
   "outputs": [
    {
     "data": {
      "text/plain": [
       "<pyspark.conf.SparkConf at 0x7fbd39a105b0>"
      ]
     },
     "execution_count": 2,
     "metadata": {},
     "output_type": "execute_result"
    }
   ],
   "source": [
    "sparkConf = SparkConf()\n",
    "sparkConf.setMaster(\"spark://master:7077\")\n",
    "sparkConf.setAppName(\"DataSourceSinkExample\")\n",
    "sparkConf.set(\"spark.driver.memory\", \"2g\")\n",
    "sparkConf.set(\"spark.executor.cores\", \"1\")\n",
    "sparkConf.set(\"spark.driver.cores\", \"1\")"
   ]
  },
  {
   "cell_type": "code",
   "execution_count": 3,
   "id": "0977d23a-411d-420d-90d4-359f77b0a568",
   "metadata": {},
   "outputs": [],
   "source": [
    "# create the spark session, which is the entry point to Spark SQL engine.\n",
    "spark = SparkSession.builder.config(conf=sparkConf).getOrCreate()"
   ]
  },
  {
   "cell_type": "code",
   "execution_count": 4,
   "id": "a6ba3b16-25ce-42de-8426-ce5bc3836dd7",
   "metadata": {},
   "outputs": [
    {
     "name": "stdout",
     "output_type": "stream",
     "text": [
      "root\n",
      " |-- product_id: string (nullable = true)\n",
      " |-- time_id: string (nullable = true)\n",
      " |-- customer_id: string (nullable = true)\n",
      " |-- promotion_id: string (nullable = true)\n",
      " |-- store_id: string (nullable = true)\n",
      " |-- store_sales: string (nullable = true)\n",
      " |-- store_cost: string (nullable = true)\n",
      " |-- unit_sales: string (nullable = true)\n",
      "\n"
     ]
    }
   ],
   "source": [
    "df = spark.read.format(\"csv\").option(\"header\", \"true\").load(\"../data/sales.csv\")\n",
    "df.printSchema()"
   ]
  },
  {
   "cell_type": "code",
   "execution_count": 5,
   "id": "92c3e483-2a14-41b6-b6b8-41cb115a576f",
   "metadata": {},
   "outputs": [],
   "source": [
    "new_df = df.select(\"unit_sales\") # Select one column"
   ]
  },
  {
   "cell_type": "code",
   "execution_count": 6,
   "id": "1847e242-7e48-4f33-a14a-3dd968d91ba3",
   "metadata": {},
   "outputs": [
    {
     "name": "stdout",
     "output_type": "stream",
     "text": [
      "+----------+\n",
      "|unit_sales|\n",
      "+----------+\n",
      "|         2|\n",
      "|         3|\n",
      "|         1|\n",
      "|         3|\n",
      "|         2|\n",
      "|         3|\n",
      "|         2|\n",
      "|         2|\n",
      "|         2|\n",
      "|         1|\n",
      "|         2|\n",
      "|         2|\n",
      "|         2|\n",
      "|         1|\n",
      "|         1|\n",
      "|         2|\n",
      "|         2|\n",
      "|         1|\n",
      "|         3|\n",
      "|         1|\n",
      "+----------+\n",
      "only showing top 20 rows\n",
      "\n"
     ]
    }
   ],
   "source": [
    "new_df.show()\n",
    "new_df.write.format(\"text\").option(\"header\", \"false\").mode(\"overwrite\").save(\"../data/output.txt\")"
   ]
  },
  {
   "cell_type": "code",
   "execution_count": 7,
   "id": "aa621131-26cb-48a8-8f6b-6e01934395ae",
   "metadata": {},
   "outputs": [],
   "source": [
    "# Stop the spark context\n",
    "spark.stop()"
   ]
  }
 ],
 "metadata": {
  "kernelspec": {
   "display_name": "Python 3",
   "language": "python",
   "name": "python3"
  },
  "language_info": {
   "codemirror_mode": {
    "name": "ipython",
    "version": 3
   },
   "file_extension": ".py",
   "mimetype": "text/x-python",
   "name": "python",
   "nbconvert_exporter": "python",
   "pygments_lexer": "ipython3",
   "version": "3.9.4"
  }
 },
 "nbformat": 4,
 "nbformat_minor": 5
}
